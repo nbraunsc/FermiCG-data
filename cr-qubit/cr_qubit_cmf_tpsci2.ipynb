{
 "cells": [
  {
   "cell_type": "code",
   "execution_count": 1,
   "id": "4cb528cd",
   "metadata": {},
   "outputs": [
    {
     "data": {
      "text/plain": [
       "\"/Users/nmayhall/code/FermiCG-data/cr-qubit\""
      ]
     },
     "execution_count": 1,
     "metadata": {},
     "output_type": "execute_result"
    }
   ],
   "source": [
    "pwd()"
   ]
  },
  {
   "cell_type": "code",
   "execution_count": 2,
   "id": "8b7117fa",
   "metadata": {},
   "outputs": [
    {
     "name": "stderr",
     "output_type": "stream",
     "text": [
      "\u001b[32m\u001b[1m  Activating\u001b[22m\u001b[39m project at `~/code/FermiCG`\n"
     ]
    },
    {
     "data": {
      "text/plain": [
       "13-element Vector{String}:\n",
       " \".ipynb_checkpoints\"\n",
       " \"C_act_loc_sorted_3.molden\"\n",
       " \"cr_qubit_cmf_5clusters.jld2\"\n",
       " \"cr_qubit_cmf_bst1.ipynb\"\n",
       " \"cr_qubit_cmf_bst2.ipynb\"\n",
       " \"cr_qubit_cmf_tpsci2.ipynb\"\n",
       " \"cr_qubit_scf.ipynb\"\n",
       " \"cr_qubit_scf_integrals_h0.npz.npy\"\n",
       " \"cr_qubit_scf_integrals_h1.npz.npy\"\n",
       " \"cr_qubit_scf_integrals_h2.npz.npy\"\n",
       " \"cr_qubit_scf_mo_coeffs.npz.npy\"\n",
       " \"excitations1.xlsx\"\n",
       " \"~\\$excitations1.xlsx\""
      ]
     },
     "execution_count": 2,
     "metadata": {},
     "output_type": "execute_result"
    }
   ],
   "source": [
    "using Pkg; Pkg.activate(\"../../FermiCG/\")\n",
    "using FermiCG, NPZ\n",
    "readdir()"
   ]
  },
  {
   "cell_type": "code",
   "execution_count": 4,
   "id": "d80058d5-9f54-4209-88b2-794127a6eb0d",
   "metadata": {},
   "outputs": [
    {
     "data": {
      "text/plain": [
       "6-element Vector{Symbol}:\n",
       " :ints\n",
       " :clusters\n",
       " :init_fspace\n",
       " :da1\n",
       " :db1\n",
       " :cluster_bases"
      ]
     },
     "execution_count": 4,
     "metadata": {},
     "output_type": "execute_result"
    }
   ],
   "source": [
    "using JLD2\n",
    "\n",
    "@load \"cr_qubit_cmf_5clusters_bases_M20.jld2\""
   ]
  },
  {
   "cell_type": "code",
   "execution_count": 6,
   "id": "76d7e26f-2a80-4b20-bfac-0277b9b69fd1",
   "metadata": {
    "tags": []
   },
   "outputs": [],
   "source": [
    "clustered_ham = FermiCG.extract_ClusteredTerms(ints, clusters)\n",
    "cluster_ops = FermiCG.compute_cluster_ops(cluster_bases, ints);\n",
    "FermiCG.add_cmf_operators!(cluster_ops, cluster_bases, ints, da1, db1);"
   ]
  },
  {
   "cell_type": "code",
   "execution_count": 20,
   "id": "70bd068c-bda8-436d-896a-d985d8295c25",
   "metadata": {},
   "outputs": [
    {
     "name": "stdout",
     "output_type": "stream",
     "text": [
      " --------------------------------------------------\n",
      " ---------- Fockspaces in state ------: Dim =     3  \n",
      " ----------                root ------:     =     1  \n",
      " --------------------------------------------------\n",
      " Printing contributions greater than: 0.001000\n",
      " Weight              # Configs           Fock space(α,β)...  \n",
      " -------             ---------           ----------          \n",
      " 1.000               3                   ( 5,5 )( 3,3 )( 3,3 )( 3,3 )( 3,3 )\n",
      " --------------------------------------------------\n"
     ]
    }
   ],
   "source": [
    "using LinearAlgebra\n",
    "\n",
    "nroots = 3\n",
    "ci_vector = FermiCG.TPSCIstate(clusters, FermiCG.FockConfig(init_fspace), R=nroots);\n",
    "# Add the lowest energy single exciton to basis\n",
    "ci_vector[FermiCG.FockConfig(init_fspace)][FermiCG.ClusterConfig([2,1,1,1,1])] = zeros(Float64,nroots)\n",
    "ci_vector[FermiCG.FockConfig(init_fspace)][FermiCG.ClusterConfig([3,1,1,1,1])] = zeros(Float64,nroots)\n",
    "# FermiCG.eye!(ci_vector)\n",
    "# FermiCG.set_vectors!(ci_vector, Matrix{Float64}(I,size(ci_vector)))\n",
    "FermiCG.randomize!(ci_vector)\n",
    "FermiCG.orthonormalize!(ci_vector)\n",
    "display(ci_vector, root=1)"
   ]
  },
  {
   "cell_type": "code",
   "execution_count": 22,
   "id": "a1db60bd-3b8a-420f-9e3f-87e11573427c",
   "metadata": {
    "tags": []
   },
   "outputs": [
    {
     "name": "stdout",
     "output_type": "stream",
     "text": [
      " ci_vector     : (3, 3)\n",
      " thresh_cipsi  : 0.001\n",
      " thresh_foi    : 1.0e-5\n",
      " thresh_asci   : -1\n",
      " thresh_var    : -1.0\n",
      " max_iter      : 10\n",
      " conv_thresh   : 0.0001\n",
      " nbody         : 4\n",
      " incremental   : true\n",
      " ci_conv       : 1.0e-5\n",
      " ci_max_iter   : 50\n",
      " ci_max_ss_vecs: 12\n",
      " davidson      : false\n",
      " max_mem_ci    : 20.0\n",
      " matvec        : 3\n",
      "\n",
      "\n",
      " ===================================================================\n",
      "     Selected CI Iteration:    1 epsilon:   0.00100000\n",
      " ===================================================================\n",
      " Memory needed to hold full CI matrix:   0.00000007 (Gb)\n",
      "\n",
      " |== Tensor Product State CI =======================================\n",
      " Hamiltonian matrix dimension =     3: \n",
      " Build full Hamiltonian matrix with dimension:       0.000458 seconds (2.54 k allocations: 78.203 KiB)\n",
      " Diagonalize: \n",
      "                                      0.000041 seconds (11 allocations: 1.844 KiB)\n",
      " Compute S2 expectation values:                      0.001065 seconds (1.62 k allocations: 63.656 KiB)\n",
      "  Root       Energy           S2\n",
      "     1 -105.91574232   2.00000000\n",
      "     2 -105.83948254   0.00000000\n",
      "     3 -105.83791692   0.00000000\n",
      " ==================================================================|\n",
      " Length of ASCI vector        3 →        3 \n",
      " Norm of delta v:\n",
      "   1.00000000\n",
      "   1.00000000\n",
      "   1.00000000\n",
      " In open_matvec_thread2\n",
      " Setup threaded jobs:                                0.000416 seconds (2.01 k allocations: 290.625 KiB)\n",
      " Number of jobs:    661\n",
      " Number of threads: 24\n",
      " Compute matrix-vector:                              0.176443 seconds (255.03 k allocations: 19.350 MiB)\n",
      " Now collect thread results:                         0.105376 seconds (548.34 k allocations: 35.428 MiB)\n",
      " Length of FOIS vector: 177846\n",
      " Compute diagonal:                                   0.553914 seconds (7.29 M allocations: 166.855 MiB, 65.76% gc time)\n",
      "\n",
      "  Root         E(0)         E(2)\n",
      "     1 -105.91574232          Inf\n",
      "     2 -105.83948254 788270395372747264.00000000\n",
      "     3 -105.83791692          Inf\n",
      " Length of PT1  vector   177846 →     1900 \n",
      " TPSCI Iter 1   Dim: 3      E(var): -105.91574232 -105.83948254 -105.83791692 \n",
      "\n",
      "\n",
      " ===================================================================\n",
      "     Selected CI Iteration:    2 epsilon:   0.00100000\n",
      " ===================================================================\n",
      " Clip values < -1.0e+00              3 →      3\n",
      " Add pt vector to current space      3 →   1900\n",
      " Memory needed to hold full CI matrix:   0.02888000 (Gb)\n",
      "\n",
      " |== Tensor Product State CI =======================================\n",
      " Hamiltonian matrix dimension =  1900: \n",
      " Fill old/old Hamiltonian:                           0.000004 seconds (2 allocations: 160 bytes)\n",
      " Build old/new Hamiltonian matrix with dimension:    0.046346 seconds (642.49 k allocations: 17.443 MiB)\n",
      " Build new/new Hamiltonian matrix with dimension:    1.768250 seconds (71.07 M allocations: 2.018 GiB, 33.81% gc time)\n",
      " Now diagonalize\n",
      " Iter:   1 SS: 3    E: -105.91574232  -105.83948254  -105.83791692   R: 6.8e-02  5.9e-02  6.2e-02   LinDep: 1.0e+00* \n",
      " Iter:   2 SS: 6    E: -105.92634836  -105.84932188  -105.84866135   R: 2.5e-02  3.3e-02  3.4e-02   LinDep: 1.0e+00* \n",
      " Iter:   3 SS: 9    E: -105.92774320  -105.85179791  -105.85144613   R: 1.0e-02  1.3e-02  1.5e-02   LinDep: 1.0e+00* \n",
      " Iter:   4 SS: 12   E: -105.92801279  -105.85236688  -105.85208766   R: 4.5e-03  8.6e-03  8.6e-03   LinDep: 1.0e+00* \n",
      " Iter:   5 SS: 15   E: -105.92806907  -105.85264888  -105.85233836   R: 2.1e-03  6.3e-03  5.7e-03   LinDep: 1.0e+00* \n",
      " Iter:   6 SS: 18   E: -105.92807978  -105.85278349  -105.85244582   R: 8.0e-04  3.6e-03  3.2e-03   LinDep: 1.0e+00* \n",
      " Iter:   7 SS: 21   E: -105.92808126  -105.85281919  -105.85247566   R: 3.1e-04  1.8e-03  1.7e-03   LinDep: 1.0e+00* \n",
      " Iter:   8 SS: 24   E: -105.92808146  -105.85282674  -105.85248254   R: 1.1e-04  7.0e-04  6.9e-04   LinDep: 1.0e+00* \n",
      " Iter:   9 SS: 27   E: -105.92808149  -105.85282802  -105.85248381   R: 4.7e-05  3.7e-04  3.7e-04   LinDep: 1.0e+00* \n",
      " Iter:  10 SS: 30   E: -105.92808149  -105.85282843  -105.85248424   R: 1.7e-05  2.1e-04  2.1e-04   LinDep: 1.0e+00* \n",
      " Iter:  11 SS: 33   E: -105.92808149* -105.85282855  -105.85248437   R: 6.7e-06* 9.2e-05  9.2e-05   LinDep: 1.0e+00* \n",
      " Iter:  12 SS: 35   E: -105.92808149* -105.85282857  -105.85248440   R: 6.7e-06* 4.4e-05  4.2e-05   LinDep: 1.0e+00* \n",
      " Iter:  13 SS: 3    E: -105.92808149* -105.85282858  -105.85248440   R: 6.7e-06* 1.8e-05  1.7e-05   LinDep: 1.0e+00* \n",
      " Iter:  14 SS: 5    E: -105.92808149* -105.85282858  -105.85248440   R: 6.7e-06* 1.4e-05  1.3e-05   LinDep: 1.0e+00* \n",
      " Iter:  15 SS: 7    E: -105.92808149* -105.85282858  -105.85248440*  R: 6.7e-06* 1.0e-05  9.4e-06*  LinDep: 1.0e+00* \n",
      " Iter:  16 SS: 8    E: -105.92808149* -105.85282858* -105.85248440*  R: 6.7e-06* 5.7e-06* 8.9e-06*  LinDep: 1.0e+00* \n",
      " Diagonalization time:                               0.120546 seconds\n",
      " Compute S2 expectation values:                      0.430004 seconds (17.15 M allocations: 514.446 MiB)\n",
      "  Root       Energy           S2\n",
      "     1 -105.92808149   2.00033777\n",
      "     2 -105.85282858   0.00069766\n",
      "     3 -105.85248440   0.00042193\n",
      " ==================================================================|\n",
      " Length of ASCI vector     1900 →     1900 \n",
      " Norm of delta v:\n",
      "   0.19591926\n",
      "   0.83696905\n",
      "   0.84008368\n",
      " In open_matvec_thread2\n",
      " Setup threaded jobs:                                0.009333 seconds (74.04 k allocations: 5.241 MiB)\n",
      " Number of jobs:    9993\n",
      " Number of threads: 24\n",
      " Compute matrix-vector:                              8.251979 seconds (23.09 M allocations: 800.364 MiB, 1.04% gc time)\n",
      " Now collect thread results:                         0.818618 seconds (2.44 M allocations: 201.178 MiB, 56.58% gc time)\n",
      " Length of FOIS vector: 642246\n",
      " Compute diagonal:                                   0.964700 seconds (26.33 M allocations: 602.655 MiB, 21.78% gc time)\n",
      "\n",
      "  Root         E(0)         E(2)\n",
      "     1 -105.92808149 -1084.38582108\n",
      "     2 -105.85282858 265460.78887761\n",
      "     3 -105.85248440 277290.00443624\n",
      " Length of PT1  vector   642246 →     2934 \n",
      " TPSCI Iter 2   Dim: 1900   E(var): -105.92808149 -105.85282858 -105.85248440 \n",
      "\n",
      "\n",
      " ===================================================================\n",
      "     Selected CI Iteration:    3 epsilon:   0.00100000\n",
      " ===================================================================\n",
      " Clip values < -1.0e+00           1900 →   1900\n",
      " Add pt vector to current space   1900 →   2934\n",
      " Memory needed to hold full CI matrix:   0.06886685 (Gb)\n",
      "\n",
      " |== Tensor Product State CI =======================================\n",
      " Hamiltonian matrix dimension =  2934: \n",
      " Fill old/old Hamiltonian:                           0.033841 seconds (2 allocations: 30.000 KiB)\n",
      " Build old/new Hamiltonian matrix with dimension:    1.743870 seconds (66.09 M allocations: 1.871 GiB, 51.58% gc time)\n",
      " Build new/new Hamiltonian matrix with dimension:    0.210061 seconds (15.88 M allocations: 473.946 MiB)\n",
      " Now diagonalize\n",
      " Iter:   1 SS: 3    E: -105.92808149  -105.85282858  -105.85248440   R: 1.6e-02  1.9e-02  1.9e-02   LinDep: 1.0e+00* \n",
      " Iter:   2 SS: 6    E: -105.92853290  -105.85357508  -105.85316406   R: 3.9e-03  5.7e-03  5.5e-03   LinDep: 1.0e+00* \n",
      " Iter:   3 SS: 9    E: -105.92856844  -105.85366797  -105.85325720   R: 1.4e-03  2.6e-03  3.0e-03   LinDep: 1.0e+00* \n",
      " Iter:   4 SS: 12   E: -105.92857314  -105.85368863  -105.85328862   R: 6.0e-04  1.4e-03  1.9e-03   LinDep: 1.0e+00* \n",
      " Iter:   5 SS: 15   E: -105.92857420  -105.85369452  -105.85329969   R: 3.4e-04  8.0e-04  1.2e-03   LinDep: 1.0e+00* \n",
      " Iter:   6 SS: 18   E: -105.92857455  -105.85369631  -105.85330345   R: 1.6e-04  4.3e-04  6.0e-04   LinDep: 1.0e+00* \n",
      " Iter:   7 SS: 21   E: -105.92857461  -105.85369688  -105.85330456   R: 5.6e-05  2.2e-04  3.1e-04   LinDep: 1.0e+00* \n",
      " Iter:   8 SS: 24   E: -105.92857461  -105.85369704  -105.85330489   R: 2.0e-05  1.2e-04  2.0e-04   LinDep: 1.0e+00* \n",
      " Iter:   9 SS: 27   E: -105.92857461* -105.85369709  -105.85330505   R: 8.2e-06* 7.9e-05  1.4e-04   LinDep: 1.0e+00* \n",
      " Iter:  10 SS: 29   E: -105.92857461* -105.85369711  -105.85330511   R: 8.2e-06* 4.6e-05  7.7e-05   LinDep: 1.0e+00* \n",
      " Iter:  11 SS: 31   E: -105.92857461* -105.85369712  -105.85330513   R: 8.2e-06* 2.4e-05  3.7e-05   LinDep: 1.0e+00* \n",
      " Iter:  12 SS: 33   E: -105.92857461* -105.85369712  -105.85330514   R: 8.2e-06* 1.1e-05  1.7e-05   LinDep: 1.0e+00* \n",
      " Iter:  13 SS: 35   E: -105.92857461* -105.85369712* -105.85330514*  R: 8.2e-06* 6.6e-06* 9.5e-06*  LinDep: 1.0e+00* \n",
      " Diagonalization time:                               0.264280 seconds\n",
      " Compute S2 expectation values:                      0.762663 seconds (35.43 M allocations: 1.040 GiB, 19.09% gc time)\n",
      "  Root       Energy           S2\n",
      "     1 -105.92857461   2.00033352\n",
      "     2 -105.85369712   0.00051644\n",
      "     3 -105.85330514   0.00039817\n",
      " ==================================================================|\n",
      " Length of ASCI vector     2934 →     2934 \n",
      " Norm of delta v:\n",
      "   0.03233894\n",
      "   0.22363663\n",
      "   0.22398781\n",
      " In open_matvec_thread2\n",
      " Setup threaded jobs:                                0.013545 seconds (99.34 k allocations: 8.586 MiB)\n",
      " Number of jobs:    14169\n",
      " Number of threads: 24\n",
      " Compute matrix-vector:                              8.210544 seconds (33.80 M allocations: 1.112 GiB, 3.41% gc time)\n",
      " Now collect thread results:                         0.490187 seconds (1.47 M allocations: 124.610 MiB, 57.12% gc time)\n",
      " Length of FOIS vector: 725919\n",
      " Compute diagonal:                                   1.417216 seconds (29.76 M allocations: 681.175 MiB, 40.40% gc time)\n",
      "\n",
      "  Root         E(0)         E(2)\n",
      "     1 -105.92857461 -132.92847686\n",
      "     2 -105.85369712 15630.80515214\n",
      "     3 -105.85330514 17842.25413892\n",
      " Length of PT1  vector   725919 →     3105 \n",
      " TPSCI Iter 3   Dim: 2934   E(var): -105.92857461 -105.85369712 -105.85330514 \n",
      "\n",
      "\n",
      " ===================================================================\n",
      "     Selected CI Iteration:    4 epsilon:   0.00100000\n",
      " ===================================================================\n",
      " Clip values < -1.0e+00           2934 →   2934\n",
      " Add pt vector to current space   2934 →   3161\n",
      " Memory needed to hold full CI matrix:   0.07993537 (Gb)\n",
      "\n",
      " |== Tensor Product State CI =======================================\n",
      " Hamiltonian matrix dimension =  3161: \n",
      " Fill old/old Hamiltonian:                           0.082535 seconds (4 allocations: 45.969 KiB)\n",
      " Build old/new Hamiltonian matrix with dimension:    0.357043 seconds (21.47 M allocations: 628.946 MiB, 19.73% gc time)\n",
      " Build new/new Hamiltonian matrix with dimension:    0.015659 seconds (903.59 k allocations: 26.736 MiB)\n",
      " Now diagonalize\n",
      " Iter:   1 SS: 3    E: -105.92857461  -105.85369712  -105.85330514   R: 4.5e-03  6.2e-03  5.1e-03   LinDep: 1.0e+00* \n",
      " Iter:   2 SS: 6    E: -105.92861005  -105.85377278  -105.85335441   R: 9.3e-04  1.5e-03  1.2e-03   LinDep: 1.0e+00* \n",
      " Iter:   3 SS: 9    E: -105.92861172  -105.85377753  -105.85335746   R: 2.8e-04  4.3e-04  3.9e-04   LinDep: 1.0e+00* \n",
      " Iter:   4 SS: 12   E: -105.92861188  -105.85377798  -105.85335782   R: 8.8e-05  1.5e-04  1.2e-04   LinDep: 1.0e+00* \n",
      " Iter:   5 SS: 15   E: -105.92861190  -105.85377805  -105.85335786   R: 3.6e-05  7.1e-05  4.4e-05   LinDep: 1.0e+00* \n",
      " Iter:   6 SS: 18   E: -105.92861190  -105.85377806  -105.85335786   R: 1.5e-05  4.7e-05  1.9e-05   LinDep: 1.0e+00* \n",
      " Iter:   7 SS: 21   E: -105.92861190* -105.85377807  -105.85335786   R: 6.0e-06* 3.4e-05  1.1e-05   LinDep: 1.0e+00* \n",
      " Iter:   8 SS: 23   E: -105.92861190* -105.85377808  -105.85335786*  R: 6.0e-06* 1.9e-05  6.4e-06*  LinDep: 1.0e+00* \n",
      " Iter:   9 SS: 24   E: -105.92861190* -105.85377808* -105.85335786*  R: 6.0e-06* 9.2e-06* 6.3e-06*  LinDep: 1.0e+00* \n",
      " Diagonalization time:                               0.185525 seconds\n",
      " Compute S2 expectation values:                      0.809800 seconds (40.29 M allocations: 1.183 GiB, 27.57% gc time)\n",
      "  Root       Energy           S2\n",
      "     1 -105.92861190   2.00033744\n",
      "     2 -105.85377808   0.00059258\n",
      "     3 -105.85335786   0.00042761\n",
      " ==================================================================|\n",
      " Length of ASCI vector     3161 →     3161 \n",
      " Norm of delta v:\n",
      "   0.00852163\n",
      "   0.01463049\n",
      "   0.01203640\n",
      " In open_matvec_thread2\n",
      " Setup threaded jobs:                                0.015224 seconds (113.75 k allocations: 9.491 MiB)\n",
      " Number of jobs:    16781\n",
      " Number of threads: 24\n",
      " Compute matrix-vector:                              4.159710 seconds (35.70 M allocations: 1.160 GiB, 5.35% gc time)\n",
      " Now collect thread results:                         0.072616 seconds (353.22 k allocations: 32.707 MiB)\n",
      " Length of FOIS vector: 736539\n",
      " Compute diagonal:                                   1.344447 seconds (30.20 M allocations: 691.141 MiB, 40.63% gc time)\n",
      "\n",
      "  Root         E(0)         E(2)\n",
      "     1 -105.92861190 -107.48300974\n",
      "     2 -105.85377808 -100.31763398\n",
      "     3 -105.85335786 -96.97109499\n",
      " Length of PT1  vector   736539 →     2703 \n",
      "*TPSCI Iter 4   Dim: 3161   E(var): -105.92861190 -105.85377808 -105.85335786 \n"
     ]
    }
   ],
   "source": [
    "e0, v0 = FermiCG.tpsci_ci(ci_vector, cluster_ops, clustered_ham,\n",
    "                            thresh_cipsi=1e-3, # Threshold for adding to P-space\n",
    "                            thresh_foi=1e-5,    # Threshold for keeping terms when defining FOIS\n",
    "                            thresh_asci=-1,     # Threshold of P-space configs to search from\n",
    "                            max_iter=10,\n",
    "                            matvec=3);"
   ]
  },
  {
   "cell_type": "code",
   "execution_count": 25,
   "id": "6ef1bc86-1df3-45dc-9d78-4b27f934550a",
   "metadata": {},
   "outputs": [
    {
     "name": "stdout",
     "output_type": "stream",
     "text": [
      "\n",
      " |........................do batched PT2............................\n",
      " thresh_foi    :1.0e-8\n",
      " prescreen     :true\n",
      " H0            :Hcmf\n",
      " nbody         :4\n",
      " Norms of input states:\n",
      "   1.00000000\n",
      "   1.00000000\n",
      "   1.00000000\n",
      " Compute <0|H0|0>:                                   0.753712 seconds (10.85 M allocations: 330.793 MiB)\n",
      " Compute <0|H|0>:                                    5.711675 seconds (330.63 M allocations: 9.442 GiB, 31.76% gc time)\n",
      " Number of jobs:    16781\n",
      " Number of threads: 24\n",
      "   |----------------------------------------------------------------------------------------------------|\n",
      "   |0%                                                                                              100%|\n",
      "   |---------------------------------------------------------------------------------------------------|\n",
      " Time spent computing E2        266.6 (s)\n",
      "  Root         E(0)         E(2)\n",
      "     1 -105.92861190 -105.92958306\n",
      "     2 -105.85377820 -105.85484094\n",
      "     3 -105.85335774 -105.85434669\n",
      " ..................................................................|\n",
      "273.660824 seconds (3.85 G allocations: 94.424 GiB, 16.72% gc time, 0.48% compilation time)\n"
     ]
    },
    {
     "data": {
      "text/plain": [
       "3-element Vector{Float64}:\n",
       " -0.0009711608796984458\n",
       " -0.0010627395651977953\n",
       " -0.0009889554511517938"
      ]
     },
     "execution_count": 25,
     "metadata": {},
     "output_type": "execute_result"
    }
   ],
   "source": [
    "@time e2 = FermiCG.compute_pt2_energy(v0, cluster_ops, clustered_ham, thresh_foi=1e-8)\n"
   ]
  },
  {
   "cell_type": "code",
   "execution_count": null,
   "id": "96ced7ec-b8d8-495a-aeaf-d6bf174af959",
   "metadata": {},
   "outputs": [],
   "source": []
  }
 ],
 "metadata": {
  "kernelspec": {
   "display_name": "Julia 1.7.2",
   "language": "julia",
   "name": "julia-1.7"
  },
  "language_info": {
   "file_extension": ".jl",
   "mimetype": "application/julia",
   "name": "julia",
   "version": "1.7.2"
  }
 },
 "nbformat": 4,
 "nbformat_minor": 5
}
