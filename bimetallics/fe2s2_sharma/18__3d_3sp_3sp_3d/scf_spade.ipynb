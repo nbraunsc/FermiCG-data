{
 "cells": [
  {
   "cell_type": "code",
   "execution_count": 5,
   "id": "872297e4-9d52-4b71-981b-9849bfa969ff",
   "metadata": {},
   "outputs": [],
   "source": [
    "import pyscf\n",
    "import pyscf.tools\n",
    "\n",
    "from orbitalpartitioning import *"
   ]
  },
  {
   "cell_type": "code",
   "execution_count": 6,
   "id": "38a92200-02bd-4e3d-8a8b-39cae17e095c",
   "metadata": {},
   "outputs": [
    {
     "name": "stdout",
     "output_type": "stream",
     "text": [
      "symmetry:  C1\n",
      "\n",
      "\n",
      "******** <class 'pyscf.scf.rohf.ROHF'> Newton solver flags ********\n",
      "SCF tol = 1e-08\n",
      "conv_tol_grad = 1e-05\n",
      "max. SCF cycles = 200\n",
      "direct_scf = True\n",
      "direct_scf_tol = 1e-13\n",
      "chkfile to save SCF result = scf.fchk\n",
      "max_cycle_inner = 12\n",
      "max_stepsize = 0.05\n",
      "ah_start_tol = 1e+09\n",
      "ah_level_shift = 0\n",
      "ah_conv_tol = 1e-12\n",
      "ah_lindep = 1e-14\n",
      "ah_start_cycle = 1\n",
      "ah_max_cycle = 40\n",
      "ah_grad_trust_region = 2.5\n",
      "kf_interval = 4\n",
      "kf_trust_region = 5\n",
      "canonicalization = True\n",
      "max_memory 4000 MB (current use 0 MB)\n",
      "  HOMO = 0.199929094185757  LUMO = 0.205421971066429\n",
      "Initial guess E= -5039.93568418248  |g|= 6.96962\n",
      "macro= 0  E= -5052.88935664801  delta_E= -12.9537  |g|= 6.63009  3 KF 15 JK\n",
      "macro= 1  E= -5062.3529859656  delta_E= -9.46363  |g|= 2.26532  3 KF 15 JK\n",
      "macro= 2  E= -5064.43953882975  delta_E= -2.08655  |g|= 0.928833  3 KF 15 JK\n",
      "macro= 3  E= -5066.29877095334  delta_E= -1.85923  |g|= 0.430438  3 KF 16 JK\n",
      "macro= 4  E= -5067.13540229638  delta_E= -0.836631  |g|= 0.251609  3 KF 17 JK\n",
      "macro= 5  E= -5067.35684064346  delta_E= -0.221438  |g|= 0.394509  2 KF 7 JK\n",
      "macro= 6  E= -5067.38451623471  delta_E= -0.0276756  |g|= 0.0690086  3 KF 13 JK\n",
      "macro= 7  E= -5067.42931871597  delta_E= -0.0448025  |g|= 0.00970627  5 KF 24 JK\n",
      "macro= 8  E= -5067.42964539837  delta_E= -0.000326682  |g|= 0.00276814  4 KF 24 JK\n",
      "macro= 9  E= -5067.4296794132  delta_E= -3.40148e-05  |g|= 0.00159855  3 KF 19 JK\n",
      "macro= 10  E= -5067.42969871053  delta_E= -1.92973e-05  |g|= 0.000967831  3 KF 20 JK\n",
      "macro= 11  E= -5067.42973179288  delta_E= -3.30823e-05  |g|= 0.00124176  3 KF 18 JK\n",
      "macro= 12  E= -5067.42975723995  delta_E= -2.54471e-05  |g|= 0.00250712  1 KF 6 JK\n",
      "macro= 13  E= -5067.43229795742  delta_E= -0.00254072  |g|= 0.00283046  2 KF 14 JK\n",
      "macro= 14  E= -5067.46830381622  delta_E= -0.0360059  |g|= 0.0683046  4 KF 21 JK\n",
      "macro= 15  E= -5067.4864184464  delta_E= -0.0181146  |g|= 0.0587733  2 KF 7 JK\n",
      "macro= 16  E= -5067.48961131529  delta_E= -0.00319287  |g|= 2.56126e-05  5 KF 20 JK\n",
      "macro= 17  E= -5067.48961131532  delta_E= -2.72848e-11  |g|= 5.54543e-06  1 KF 3 JK\n",
      "Canonicalize SCF orbitals\n",
      "macro X = 18  E=-5067.48961131532  |g|= 5.54543e-06  total 54 KF 293 JK\n",
      "converged SCF energy = -5067.48961131532\n",
      " Hartree-Fock Energy: -5067.48961132\n"
     ]
    }
   ],
   "source": [
    "molecule = \"\"\"\n",
    "Fe  5.48 1.15 -8.03\n",
    "S   4.05 -0.61 -8.75\n",
    "S   7.49 0.42 -9.04\n",
    "Fe  6.04 -1.22 -9.63\n",
    "S   5.47 1.25 -5.58\n",
    "S   4.63 3.28 -8.77\n",
    "S   5.75 -1.50 -12.05\n",
    "S   6.86 -3.41 -8.86\n",
    "C   5.51 4.45 -7.51\n",
    "H   6.49 4.83 -7.92\n",
    "H   4.87 5.33 -7.25\n",
    "H   5.72 3.84 -6.59\n",
    "C   3.60 1.70 -5.54\n",
    "H   3.01 0.80 -5.82\n",
    "H   3.28 2.06 -4.52\n",
    "H   3.42 2.48 -6.31\n",
    "C   5.21 -4.22 -9.46\n",
    "H   5.10 -4.01 -10.55\n",
    "H   5.21 -5.32 -9.26\n",
    "H   4.37 -3.72 -8.93\n",
    "C   7.63 -1.85 -12.24\n",
    "H   7.90 -2.06 -13.31\n",
    "H   8.20 -0.96 -11.86\n",
    "H   7.89 -2.72 -11.59\n",
    "\"\"\"\n",
    "\n",
    "basis = \"def2-svp\"\n",
    "pymol = pyscf.gto.Mole(\n",
    "        atom    =   molecule,\n",
    "        symmetry=   True,\n",
    "        spin    =   10, # number of unpaired electrons\n",
    "        charge  =   -2,\n",
    "        basis   =   basis)\n",
    "\n",
    "\n",
    "pymol.build()\n",
    "print(\"symmetry: \",pymol.topgroup)\n",
    "# mf = pyscf.scf.UHF(pymol).x2c()\n",
    "mf = pyscf.scf.ROHF(pymol).newton()\n",
    "# mf = pyscf.scf.ROHF(pymol)\n",
    "mf.verbose = 4\n",
    "mf.conv_tol = 1e-8\n",
    "mf.conv_tol_grad = 1e-5\n",
    "mf.chkfile = \"scf.fchk\"\n",
    "mf.init_guess = \"sad\"\n",
    "\n",
    "mf.run(max_cycle=200)\n",
    "\n",
    "print(\" Hartree-Fock Energy: %12.8f\" % mf.e_tot)\n",
    "# mf.analyze()\n",
    "\n",
    "# Get data\n",
    "F = mf.get_fock()\n",
    "C = mf.mo_coeff\n",
    "S = mf.get_ovlp()\n",
    "ndocc = mf.nelec[1]\n",
    "nsing = mf.nelec[0] - ndocc\n",
    "nvirt = mf.mol.nao - ndocc - nsing\n",
    "\n",
    "# Just use alpha orbitals\n",
    "Cdocc = mf.mo_coeff[:,0:ndocc]\n",
    "Csing = mf.mo_coeff[:,ndocc:ndocc+nsing]\n",
    "Cvirt = mf.mo_coeff[:,ndocc+nsing:ndocc+nsing+nvirt]\n",
    "\n",
    "nbas = Cdocc.shape[0]"
   ]
  },
  {
   "attachments": {},
   "cell_type": "markdown",
   "id": "926bfd1b",
   "metadata": {},
   "source": [
    "# Define Fragments by AOs"
   ]
  },
  {
   "cell_type": "code",
   "execution_count": 18,
   "id": "45633353-ae0c-47b2-ae89-8d9a66039cd9",
   "metadata": {
    "tags": []
   },
   "outputs": [
    {
     "name": "stdout",
     "output_type": "stream",
     "text": [
      "[[14, 15, 16, 17, 18], [33, 38, 39, 40], [51, 56, 57, 58], [81, 82, 83, 84, 85]]\n"
     ]
    }
   ],
   "source": [
    "# Find AO's corresponding to atoms\n",
    "full = []\n",
    "frag1 = []\n",
    "frag2 = []\n",
    "frag3 = []\n",
    "frag4 = []\n",
    "for ao_idx,ao in enumerate(mf.mol.ao_labels(fmt=False)):\n",
    "    if ao[0] == 0:\n",
    "        if ao[2] in (\"3d\"):\n",
    "            frag1.append(ao_idx)\n",
    "            full.append(ao_idx)\n",
    "    elif ao[0] == 1:\n",
    "        if ao[2] in (\"3s\", \"3p\"):\n",
    "            frag2.append(ao_idx)\n",
    "            full.append(ao_idx)\n",
    "    elif ao[0] == 2:\n",
    "        if ao[2] in (\"3s\", \"3p\"):\n",
    "            frag3.append(ao_idx)\n",
    "            full.append(ao_idx)\n",
    "    elif ao[0] == 3:\n",
    "        if ao[2] in (\"3d\"):\n",
    "            frag4.append(ao_idx)\n",
    "            full.append(ao_idx)\n",
    "\n",
    "\n",
    "frags = [frag1, frag2, frag3, frag4]\n",
    "print(frags)\n"
   ]
  },
  {
   "attachments": {},
   "cell_type": "markdown",
   "id": "3efb9920",
   "metadata": {},
   "source": [
    "# Define Projectors\n",
    "We can choose to project onto the non-orthogonal AOs, or onto the symmetrically orthogonalized AOs."
   ]
  },
  {
   "cell_type": "code",
   "execution_count": 19,
   "id": "398f646b",
   "metadata": {},
   "outputs": [],
   "source": [
    "# Define projectors\n",
    "X = scipy.linalg.sqrtm(S)\n",
    "X = np.eye(nbas) \n",
    "Pfull = X[:,full]  # non-orthogonal\n",
    "Pf = []\n",
    "for f in frags:\n",
    "    Pf.append(X[:,f])\n"
   ]
  },
  {
   "attachments": {},
   "cell_type": "markdown",
   "id": "841d2ce9",
   "metadata": {},
   "source": [
    "# Project MOs onto all fragments\n",
    "For each orbital block (Docc, Sing, Virt), project each subspace onto the full list of fragment AOs. This will determine our full active space."
   ]
  },
  {
   "cell_type": "code",
   "execution_count": 20,
   "id": "b5553884",
   "metadata": {},
   "outputs": [
    {
     "name": "stdout",
     "output_type": "stream",
     "text": [
      " Partition  286 orbitals into a total of   18 orbitals\n",
      "            Index   Sing. Val. Space       \n",
      "                0   0.97557941            1*\n",
      "                1   0.97551133            0*\n",
      "                2   0.97438008            0*\n",
      "                3   0.97224832            1*\n",
      "                4   0.97202480            1*\n",
      "                5   0.96759246            1*\n",
      "                6   0.95783509            1*\n",
      "                7   0.95759599            1*\n",
      "                8   0.95700853            1*\n",
      "                9   0.95389459            1*\n",
      "               10   0.94955095            1*\n",
      "               11   0.94491514            1*\n",
      "               12   0.87126110            0*\n",
      "               13   0.85155192            0*\n",
      "               14   0.83066280            0*\n",
      "               15   0.82234829            0*\n",
      "               16   0.81436863            0*\n",
      "               17   0.78132897            0*\n",
      "               18   0.62933799            2\n",
      "               19   0.58781242            2\n",
      "               20   0.57272730            2\n",
      "               21   0.56724001            2\n",
      "               22   0.52473136            2\n",
      "               23   0.50117019            2\n",
      "               24   0.24395164            0\n",
      "               25   0.24298609            2\n",
      "               26   0.23075030            2\n",
      "               27   0.22640335            0\n",
      "               28   0.22529853            2\n",
      "               29   0.22470123            2\n",
      "               30   0.22167152            2\n",
      "               31   0.22045746            2\n",
      "               32   0.21711568            2\n",
      "               33   0.21469992            2\n",
      "               34   0.21448718            2\n",
      "               35   0.21325117            2\n",
      "               36   0.21148995            2\n",
      "               37   0.19782651            2\n",
      "               38   0.18726161            0\n",
      "               39   0.16589752            0\n",
      "               40   0.16138086            0\n",
      "               41   0.12944731            0\n",
      "               42   0.10259380            0\n",
      "               43   0.09784705            0\n",
      "               44   0.08121955            0\n",
      "               45   0.04496028            0\n"
     ]
    }
   ],
   "source": [
    "(Oact, Sact, Vact), (Cenv, Cerr, _) = svd_subspace_partitioning((Cdocc, Csing, Cvirt), Pfull, S)\n",
    "assert(Cerr.shape[1] == 0)\n",
    "Cact = np.hstack((Oact, Sact, Vact))"
   ]
  },
  {
   "attachments": {},
   "cell_type": "markdown",
   "id": "d58103c3",
   "metadata": {},
   "source": [
    "# Split active space into fragments"
   ]
  },
  {
   "cell_type": "code",
   "execution_count": 21,
   "id": "5f16720a",
   "metadata": {},
   "outputs": [
    {
     "name": "stdout",
     "output_type": "stream",
     "text": [
      "\n",
      " Fragment:  [14, 15, 16, 17, 18]\n",
      " Partition   18 orbitals into a total of    5 orbitals\n",
      "            Index   Sing. Val. Space       \n",
      "                0   0.96755355            1*\n",
      "                1   0.96494853            1*\n",
      "                2   0.94980056            1*\n",
      "                3   0.93877242            1*\n",
      "                4   0.92955484            1*\n",
      "                5   0.25601460            0\n",
      "                6   0.15108206            0\n",
      "                7   0.12347333            0\n",
      "                8   0.10242421            0\n",
      "                9   0.09045992            0\n",
      "\n",
      " Fragment:  [33, 38, 39, 40]\n",
      " Partition   18 orbitals into a total of    4 orbitals\n",
      "            Index   Sing. Val. Space       \n",
      "                0   0.97440544            0*\n",
      "                1   0.81974101            0*\n",
      "                2   0.80211213            0*\n",
      "                3   0.78897838            0*\n",
      "                4   0.20410610            1\n",
      "                5   0.18582698            1\n",
      "                6   0.17393739            1\n",
      "                7   0.03367297            1\n",
      "\n",
      " Fragment:  [51, 56, 57, 58]\n",
      " Partition   18 orbitals into a total of    4 orbitals\n",
      "            Index   Sing. Val. Space       \n",
      "                0   0.97436061            0*\n",
      "                1   0.82012041            0*\n",
      "                2   0.80247604            0*\n",
      "                3   0.78980451            0*\n",
      "                4   0.20022001            1\n",
      "                5   0.17974411            1\n",
      "                6   0.17304120            1\n",
      "                7   0.03376309            1\n",
      "\n",
      " Fragment:  [81, 82, 83, 84, 85]\n",
      " Partition   18 orbitals into a total of    5 orbitals\n",
      "            Index   Sing. Val. Space       \n",
      "                0   0.96457293            1*\n",
      "                1   0.96261477            1*\n",
      "                2   0.94320085            1*\n",
      "                3   0.94099702            1*\n",
      "                4   0.92470964            1*\n",
      "                5   0.26659407            0\n",
      "                6   0.18022001            0\n",
      "                7   0.13085949            0\n",
      "                8   0.12601046            0\n",
      "                9   0.09465389            0\n",
      " init_fspace =  [(5, 0), (4, 4), (4, 4), (5, 0)]\n",
      " clusters    =  [[1, 2, 3, 4, 5], [6, 7, 8, 9], [10, 11, 12, 13], [14, 15, 16, 17, 18]]\n"
     ]
    }
   ],
   "source": [
    "# Project active orbitals onto fragments\n",
    "init_fspace = []\n",
    "clusters = []\n",
    "Cfrags = []\n",
    "orb_index = 1\n",
    "\n",
    "\n",
    "for fi,f in enumerate(frags):\n",
    "    print()\n",
    "    print(\" Fragment: \", f)\n",
    "    (Of, Sf, Vf), (_, _, _) = svd_subspace_partitioning((Oact, Sact, Vact), Pf[fi], S)\n",
    "    Cfrags.append(np.hstack((Of, Sf, Vf)))\n",
    "    ndocc_f = Of.shape[1]\n",
    "    init_fspace.append((ndocc_f+Sf.shape[1], ndocc_f))\n",
    "    nmof = Of.shape[1] + Sf.shape[1] + Vf.shape[1]\n",
    "    clusters.append(list(range(orb_index, orb_index+nmof)))\n",
    "    orb_index += nmof\n",
    "\n",
    "\n",
    "\n",
    "# Orthogonalize Fragment orbitals\n",
    "Cfrags = sym_ortho(Cfrags, S)\n",
    "\n",
    "# Pseudo canonicalize fragments\n",
    "Cfrags = canonicalize(Cfrags, F)\n",
    "\n",
    "\n",
    "Cact = np.hstack(Cfrags)\n",
    "\n",
    "# Write Molden files for visualization\n",
    "pyscf.tools.molden.from_mo(mf.mol, \"Pfull.molden\", Pfull)\n",
    "pyscf.tools.molden.from_mo(mf.mol, \"Cact.molden\", Cact)\n",
    "pyscf.tools.molden.from_mo(mf.mol, \"Cenv.molden\", Cenv)\n",
    "for i in range(len(frags)):\n",
    "    pyscf.tools.molden.from_mo(mf.mol, \"Cfrag%i.molden\"%i, Cfrags[i])\n",
    "\n",
    "print(\" init_fspace = \", init_fspace)\n",
    "print(\" clusters    = \", clusters)\n",
    "\n",
    "\n",
    "# data[\"Cact\"] = Cact\n",
    "# data[\"init_fspace\"] = init_fspace \n",
    "# data[\"clusters\"] = clusters \n",
    "# with open('data_CrOCr.pickle', 'wb') as handle:\n",
    "#     pickle.dump(data, handle)\n"
   ]
  },
  {
   "cell_type": "markdown",
   "id": "91dc633f-ee84-4875-bfed-57c9c3d7d0a6",
   "metadata": {},
   "source": [
    "# Make Integrals"
   ]
  },
  {
   "cell_type": "code",
   "execution_count": 22,
   "id": "eb3ac06f-7e94-420f-9635-6f64f27c7f05",
   "metadata": {},
   "outputs": [
    {
     "name": "stdout",
     "output_type": "stream",
     "text": [
      "(286, 80)\n",
      "(286, 18)\n",
      "(286, 286)\n"
     ]
    }
   ],
   "source": [
    "print(Cenv.shape)\n",
    "print(Cact.shape)\n",
    "d1_embed = 2 * Cenv @ Cenv.T\n",
    "\n",
    "h0 = pyscf.gto.mole.energy_nuc(mf.mol)\n",
    "h  = pyscf.scf.hf.get_hcore(mf.mol)\n",
    "j, k = pyscf.scf.hf.get_jk(mf.mol, d1_embed, hermi=1)\n",
    "\n",
    "print(h.shape)"
   ]
  },
  {
   "cell_type": "code",
   "execution_count": 23,
   "id": "130e7b7f-697e-4448-81f2-458931b4de8d",
   "metadata": {},
   "outputs": [],
   "source": [
    "h0 += np.trace(d1_embed @ ( h + .5*j - .25*k))\n",
    "\n",
    "h = Cact.T @ h @ Cact;\n",
    "j = Cact.T @ j @ Cact;\n",
    "k = Cact.T @ k @ Cact;"
   ]
  },
  {
   "cell_type": "code",
   "execution_count": 24,
   "id": "5047dda7-d4cc-4460-9f5a-0b34b7f16787",
   "metadata": {},
   "outputs": [],
   "source": [
    "nact = h.shape[0]\n",
    "\n",
    "h2 = pyscf.ao2mo.kernel(pymol, Cact, aosym=\"s4\", compact=False)\n",
    "h2.shape = (nact, nact, nact, nact)"
   ]
  },
  {
   "cell_type": "code",
   "execution_count": 25,
   "id": "eb9d44fb-b0ea-48c6-affd-481fc3405daa",
   "metadata": {},
   "outputs": [],
   "source": [
    "# The use of d1_embed only really makes sense if it has zero electrons in the\n",
    "# active space. Let's warn the user if that's not true\n",
    "\n",
    "S = pymol.intor(\"int1e_ovlp_sph\")\n",
    "n_act = np.trace(S @ d1_embed @ S @ Cact @ Cact.T)\n",
    "if abs(n_act) > 1e-8 == False:\n",
    "    print(n_act)\n",
    "    error(\" I found embedded electrons in the active space?!\")\n",
    "\n",
    "h1 = h + j - .5*k;\n"
   ]
  },
  {
   "cell_type": "code",
   "execution_count": 26,
   "id": "48548fca-bae3-46ea-94a6-fa73553eb91d",
   "metadata": {},
   "outputs": [],
   "source": [
    "np.save(\"ints_h0\", h0)\n",
    "np.save(\"ints_h1\", h1)\n",
    "np.save(\"ints_h2\", h2)\n",
    "np.save(\"mo_coeffs\", Cact)\n",
    "np.save(\"overlap_mat\", S)\n",
    "\n",
    "Pa = mf.make_rdm1()[0]\n",
    "Pb = mf.make_rdm1()[1]\n",
    "np.save(\"Pa\", Cact.T @ S @ Pa @ S @ Cact)\n",
    "np.save(\"Pb\", Cact.T @ S @ Pb @ S @ Cact)"
   ]
  },
  {
   "cell_type": "code",
   "execution_count": 16,
   "id": "0fa167fc",
   "metadata": {},
   "outputs": [
    {
     "ename": "FileNotFoundError",
     "evalue": "[Errno 2] No such file or directory: 'Ccmf.npy'",
     "output_type": "error",
     "traceback": [
      "\u001b[0;31m---------------------------------------------------------------------------\u001b[0m",
      "\u001b[0;31mFileNotFoundError\u001b[0m                         Traceback (most recent call last)",
      "Cell \u001b[0;32mIn[16], line 2\u001b[0m\n\u001b[1;32m      1\u001b[0m \u001b[39mimport\u001b[39;00m \u001b[39mnumpy\u001b[39;00m \u001b[39mas\u001b[39;00m \u001b[39mnp\u001b[39;00m\n\u001b[0;32m----> 2\u001b[0m Ccmf \u001b[39m=\u001b[39m np\u001b[39m.\u001b[39;49mload(\u001b[39m\"\u001b[39;49m\u001b[39mCcmf.npy\u001b[39;49m\u001b[39m\"\u001b[39;49m)\n\u001b[1;32m      3\u001b[0m pyscf\u001b[39m.\u001b[39mtools\u001b[39m.\u001b[39mmolden\u001b[39m.\u001b[39mfrom_mo(mf\u001b[39m.\u001b[39mmol, \u001b[39m\"\u001b[39m\u001b[39mCcmf.molden\u001b[39m\u001b[39m\"\u001b[39m, Ccmf)\n",
      "File \u001b[0;32m/opt/anaconda3/envs/pyscf2/lib/python3.10/site-packages/numpy/lib/npyio.py:405\u001b[0m, in \u001b[0;36mload\u001b[0;34m(file, mmap_mode, allow_pickle, fix_imports, encoding, max_header_size)\u001b[0m\n\u001b[1;32m    403\u001b[0m     own_fid \u001b[39m=\u001b[39m \u001b[39mFalse\u001b[39;00m\n\u001b[1;32m    404\u001b[0m \u001b[39melse\u001b[39;00m:\n\u001b[0;32m--> 405\u001b[0m     fid \u001b[39m=\u001b[39m stack\u001b[39m.\u001b[39menter_context(\u001b[39mopen\u001b[39;49m(os_fspath(file), \u001b[39m\"\u001b[39;49m\u001b[39mrb\u001b[39;49m\u001b[39m\"\u001b[39;49m))\n\u001b[1;32m    406\u001b[0m     own_fid \u001b[39m=\u001b[39m \u001b[39mTrue\u001b[39;00m\n\u001b[1;32m    408\u001b[0m \u001b[39m# Code to distinguish from NumPy binary files and pickles.\u001b[39;00m\n",
      "\u001b[0;31mFileNotFoundError\u001b[0m: [Errno 2] No such file or directory: 'Ccmf.npy'"
     ]
    }
   ],
   "source": [
    "import numpy as np\n",
    "Ccmf = np.load(\"Ccmf.npy\")\n",
    "pyscf.tools.molden.from_mo(mf.mol, \"Ccmf.molden\", Ccmf)\n"
   ]
  }
 ],
 "metadata": {
  "kernelspec": {
   "display_name": "Python 3 (ipykernel)",
   "language": "python",
   "name": "python3"
  },
  "language_info": {
   "codemirror_mode": {
    "name": "ipython",
    "version": 3
   },
   "file_extension": ".py",
   "mimetype": "text/x-python",
   "name": "python",
   "nbconvert_exporter": "python",
   "pygments_lexer": "ipython3",
   "version": "3.10.10"
  }
 },
 "nbformat": 4,
 "nbformat_minor": 5
}
