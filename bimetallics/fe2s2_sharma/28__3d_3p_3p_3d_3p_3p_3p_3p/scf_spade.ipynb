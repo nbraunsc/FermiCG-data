{
 "cells": [
  {
   "cell_type": "code",
   "execution_count": 20,
   "id": "872297e4-9d52-4b71-981b-9849bfa969ff",
   "metadata": {},
   "outputs": [],
   "source": [
    "import pyscf\n",
    "import pyscf.tools\n",
    "\n",
    "from orbitalpartitioning import *"
   ]
  },
  {
   "cell_type": "code",
   "execution_count": 4,
   "id": "38a92200-02bd-4e3d-8a8b-39cae17e095c",
   "metadata": {},
   "outputs": [
    {
     "name": "stdout",
     "output_type": "stream",
     "text": [
      "symmetry:  C1\n",
      "\n",
      "\n",
      "******** <class 'pyscf.scf.rohf.ROHF'> Newton solver flags ********\n",
      "SCF tol = 1e-08\n",
      "conv_tol_grad = 1e-05\n",
      "max. SCF cycles = 100\n",
      "direct_scf = True\n",
      "direct_scf_tol = 1e-13\n",
      "chkfile to save SCF result = scf.fchk\n",
      "max_cycle_inner = 12\n",
      "max_stepsize = 0.05\n",
      "ah_start_tol = 1e+09\n",
      "ah_level_shift = 0\n",
      "ah_conv_tol = 1e-12\n",
      "ah_lindep = 1e-14\n",
      "ah_start_cycle = 1\n",
      "ah_max_cycle = 40\n",
      "ah_grad_trust_region = 2.5\n",
      "kf_interval = 4\n",
      "kf_trust_region = 5\n",
      "canonicalization = True\n",
      "max_memory 4000 MB (current use 0 MB)\n",
      "  HOMO = 0.199929094185569  LUMO = 0.205421971066361\n",
      "Initial guess E= -5039.93568418244  |g|= 6.96962\n",
      "macro= 0  E= -5052.88911939278  delta_E= -12.9534  |g|= 6.63009  3 KF 15 JK\n",
      "macro= 1  E= -5062.35298948856  delta_E= -9.46387  |g|= 2.26549  3 KF 15 JK\n",
      "macro= 2  E= -5064.43902264666  delta_E= -2.08603  |g|= 0.928976  3 KF 15 JK\n",
      "macro= 3  E= -5066.30222790804  delta_E= -1.86321  |g|= 0.431233  3 KF 16 JK\n",
      "macro= 4  E= -5067.13022699294  delta_E= -0.827999  |g|= 0.250849  3 KF 17 JK\n",
      "macro= 5  E= -5067.35509284217  delta_E= -0.224866  |g|= 0.399472  2 KF 7 JK\n",
      "macro= 6  E= -5067.38472522681  delta_E= -0.0296324  |g|= 0.0659867  3 KF 13 JK\n",
      "macro= 7  E= -5067.42938225006  delta_E= -0.044657  |g|= 0.0093364  5 KF 23 JK\n",
      "macro= 8  E= -5067.42964748089  delta_E= -0.000265231  |g|= 0.00305239  4 KF 24 JK\n",
      "macro= 9  E= -5067.42967983767  delta_E= -3.23568e-05  |g|= 0.00160939  3 KF 19 JK\n",
      "macro= 10  E= -5067.42969900244  delta_E= -1.91648e-05  |g|= 0.000947578  3 KF 20 JK\n",
      "macro= 11  E= -5067.42973373291  delta_E= -3.47305e-05  |g|= 0.0013454  3 KF 18 JK\n",
      "macro= 12  E= -5067.4297635158  delta_E= -2.97829e-05  |g|= 0.00255292  1 KF 6 JK\n",
      "macro= 13  E= -5067.43252342792  delta_E= -0.00275991  |g|= 0.00312847  2 KF 14 JK\n",
      "macro= 14  E= -5067.45663856287  delta_E= -0.0241151  |g|= 0.138927  3 KF 18 JK\n",
      "macro= 15  E= -5067.43133909187  delta_E= 0.0252995  |g|= 0.0505663  3 KF 13 JK\n",
      "macro= 16  E= -5067.48880466538  delta_E= -0.0574656  |g|= 0.0680923  3 KF 9 JK\n",
      "macro= 17  E= -5067.48961131532  delta_E= -0.00080665  |g|= 1.06259e-05  5 KF 19 JK\n",
      "macro= 18  E= -5067.48961131532  delta_E= -2.72848e-12  |g|= 3.69683e-06  1 KF 2 JK\n",
      "Canonicalize SCF orbitals\n",
      "macro X = 19  E=-5067.48961131532  |g|= 3.69683e-06  total 57 KF 303 JK\n",
      "converged SCF energy = -5067.48961131532\n",
      " Hartree-Fock Energy: -5067.48961132\n"
     ]
    }
   ],
   "source": [
    "molecule = \"\"\"\n",
    "Fe  5.48 1.15 -8.03\n",
    "S   4.05 -0.61 -8.75\n",
    "S   7.49 0.42 -9.04\n",
    "Fe  6.04 -1.22 -9.63\n",
    "S   5.47 1.25 -5.58\n",
    "S   4.63 3.28 -8.77\n",
    "S   5.75 -1.50 -12.05\n",
    "S   6.86 -3.41 -8.86\n",
    "C   5.51 4.45 -7.51\n",
    "H   6.49 4.83 -7.92\n",
    "H   4.87 5.33 -7.25\n",
    "H   5.72 3.84 -6.59\n",
    "C   3.60 1.70 -5.54\n",
    "H   3.01 0.80 -5.82\n",
    "H   3.28 2.06 -4.52\n",
    "H   3.42 2.48 -6.31\n",
    "C   5.21 -4.22 -9.46\n",
    "H   5.10 -4.01 -10.55\n",
    "H   5.21 -5.32 -9.26\n",
    "H   4.37 -3.72 -8.93\n",
    "C   7.63 -1.85 -12.24\n",
    "H   7.90 -2.06 -13.31\n",
    "H   8.20 -0.96 -11.86\n",
    "H   7.89 -2.72 -11.59\n",
    "\"\"\"\n",
    "\n",
    "basis = \"def2-svp\"\n",
    "pymol = pyscf.gto.Mole(\n",
    "        atom    =   molecule,\n",
    "        symmetry=   True,\n",
    "        spin    =   10, # number of unpaired electrons\n",
    "        charge  =   -2,\n",
    "        basis   =   basis)\n",
    "\n",
    "\n",
    "pymol.build()\n",
    "print(\"symmetry: \",pymol.topgroup)\n",
    "# mf = pyscf.scf.UHF(pymol).x2c()\n",
    "mf = pyscf.scf.ROHF(pymol).newton()\n",
    "# mf = pyscf.scf.ROHF(pymol)\n",
    "mf.verbose = 4\n",
    "mf.conv_tol = 1e-8\n",
    "mf.conv_tol_grad = 1e-5\n",
    "mf.chkfile = \"scf.fchk\"\n",
    "mf.init_guess = \"sad\"\n",
    "mf.run(max_cycle=100)\n",
    "\n",
    "print(\" Hartree-Fock Energy: %12.8f\" % mf.e_tot)\n",
    "# mf.analyze()\n",
    "# Get data\n",
    "F = mf.get_fock()\n",
    "C = mf.mo_coeff\n",
    "S = mf.get_ovlp()\n",
    "\n",
    "# Just use alpha orbitals\n",
    "Cdocc = mf.mo_coeff[:,mf.mo_occ==2]\n",
    "Csing = mf.mo_coeff[:,mf.mo_occ==1]\n",
    "Cvirt = mf.mo_coeff[:,mf.mo_occ==0]\n",
    "ndocc = Cdocc.shape[1]\n",
    "nsing = Csing.shape[1]\n",
    "nvirt = Cvirt.shape[1]\n",
    "\n"
   ]
  },
  {
   "cell_type": "code",
   "execution_count": 5,
   "id": "36f20b0f",
   "metadata": {},
   "outputs": [],
   "source": [
    "pyscf.tools.molden.from_mo(mf.mol, \"Csing.molden\", Csing)"
   ]
  },
  {
   "attachments": {},
   "cell_type": "markdown",
   "id": "926bfd1b",
   "metadata": {},
   "source": [
    "# Define Fragments by AOs"
   ]
  },
  {
   "cell_type": "code",
   "execution_count": 37,
   "id": "45633353-ae0c-47b2-ae89-8d9a66039cd9",
   "metadata": {
    "tags": []
   },
   "outputs": [
    {
     "name": "stdout",
     "output_type": "stream",
     "text": [
      "[[3, 14, 15, 16, 17, 18], [33, 38, 39, 40], [51, 56, 57, 58], [70, 81, 82, 83, 84, 85]]\n"
     ]
    }
   ],
   "source": [
    "# Find AO's corresponding to atoms\n",
    "full = []\n",
    "frag1 = []\n",
    "frag2 = []\n",
    "frag3 = []\n",
    "frag4 = []\n",
    "for ao_idx,ao in enumerate(mf.mol.ao_labels(fmt=False)):\n",
    "    if ao[0] == 0:\n",
    "        if ao[2] in (\"3d\",\"4s\"):\n",
    "            frag1.append(ao_idx)\n",
    "            full.append(ao_idx)\n",
    "    elif ao[0] == 1:\n",
    "        if ao[2] in (\"3p\",\"3s\"):\n",
    "            frag2.append(ao_idx)\n",
    "            full.append(ao_idx)\n",
    "    elif ao[0] == 2:\n",
    "        if ao[2] in (\"3p\",\"3s\"):\n",
    "            frag3.append(ao_idx)\n",
    "            full.append(ao_idx)\n",
    "    elif ao[0] == 3:\n",
    "        if ao[2] in (\"3d\",\"4s\"):\n",
    "            frag4.append(ao_idx)\n",
    "            full.append(ao_idx)\n",
    "\n",
    "\n",
    "frags = [frag1, frag2, frag3, frag4]\n",
    "print(frags)\n"
   ]
  },
  {
   "attachments": {},
   "cell_type": "markdown",
   "id": "3efb9920",
   "metadata": {},
   "source": [
    "# Define Projectors\n",
    "We can choose to project onto the non-orthogonal AOs, or onto the symmetrically orthogonalized AOs."
   ]
  },
  {
   "cell_type": "code",
   "execution_count": 72,
   "id": "398f646b",
   "metadata": {},
   "outputs": [],
   "source": [
    "# Define projectors\n",
    "nbas = Cdocc.shape[0]\n",
    "X = scipy.linalg.sqrtm(S)\n",
    "X = np.eye(nbas) \n",
    "Pfull = X[:,full]  # non-orthogonal\n",
    "Pf = []\n",
    "for f in frags:\n",
    "    Pf.append(X[:,f])\n",
    "\n"
   ]
  },
  {
   "cell_type": "code",
   "execution_count": 73,
   "id": "3d16b675",
   "metadata": {},
   "outputs": [],
   "source": [
    "# Get data\n",
    "# F = mf.get_fock()\n",
    "C = mf.mo_coeff\n",
    "S = mf.get_ovlp()\n"
   ]
  },
  {
   "attachments": {},
   "cell_type": "markdown",
   "id": "841d2ce9",
   "metadata": {},
   "source": [
    "# Project MOs onto all fragments\n",
    "For each orbital block (Docc, Sing, Virt), project each subspace onto the full list of fragment AOs. This will determine our full active space."
   ]
  },
  {
   "cell_type": "code",
   "execution_count": 74,
   "id": "b5553884",
   "metadata": {},
   "outputs": [
    {
     "name": "stdout",
     "output_type": "stream",
     "text": [
      " Partition  286 orbitals into a total of   20 orbitals\n",
      "            Index   Sing. Val. Space       \n",
      "                0   0.93031511            1*\n",
      "                1   0.92632627            1*\n",
      "                2   0.92545592            1*\n",
      "                3   0.92340671            1*\n",
      "                4   0.91879996            1*\n",
      "                5   0.91440476            1*\n",
      "                6   0.91258159            1*\n",
      "                7   0.90611851            1*\n",
      "                8   0.89299776            1*\n",
      "                9   0.88297945            1*\n",
      "               10   0.77357415            0*\n",
      "               11   0.77189891            0*\n",
      "               12   0.75827530            0*\n",
      "               13   0.74668752            0*\n",
      "               14   0.74288045            0*\n",
      "               15   0.73838239            0*\n",
      "               16   0.71272910            0*\n",
      "               17   0.66551551            0*\n",
      "               18   0.58501361            0*\n",
      "               19   0.46245763            2*\n",
      "               20   0.45153066            0\n",
      "               21   0.44178049            2\n",
      "               22   0.29152704            2\n",
      "               23   0.28802340            0\n",
      "               24   0.27860542            2\n",
      "               25   0.26503246            0\n",
      "               26   0.25726664            2\n",
      "               27   0.23481584            2\n",
      "               28   0.21042345            0\n",
      "               29   0.20139028            0\n",
      "               30   0.18707565            0\n",
      "               31   0.17375691            2\n",
      "               32   0.15334656            0\n",
      "               33   0.12394776            0\n",
      "               34   0.11816468            0\n",
      "               35   0.11119188            2\n",
      "               36   0.09004913            0\n",
      "               37   0.06964453            2\n",
      "               38   0.06620919            2\n",
      "               39   0.06135989            2\n",
      "               40   0.06082324            2\n",
      "               41   0.05929484            0\n",
      "               42   0.05928925            2\n",
      "               43   0.05683777            2\n",
      "               44   0.05634069            2\n",
      "               45   0.05529177            2\n",
      "               46   0.05210580            2\n",
      "               47   0.04535563            2\n",
      "               48   0.02662320            2\n",
      "               49   0.01693670            2\n",
      " Should be 1:  0.9999999999999826\n"
     ]
    }
   ],
   "source": [
    "(Oact, Sact, Vact), (Cenv, Cerr, _) = svd_subspace_partitioning((Cdocc, Csing, Cvirt), Pfull, S)\n",
    "assert(Cerr.shape[1] == 0)\n",
    "Cact = np.hstack((Oact, Sact, Vact))\n",
    "pyscf.tools.molden.from_mo(mf.mol, \"Cact.molden\", Cact)\n",
    "print(\" Should be 1: \", np.linalg.det(Cact.T @ S @ Cact))"
   ]
  },
  {
   "attachments": {},
   "cell_type": "markdown",
   "id": "d58103c3",
   "metadata": {},
   "source": [
    "# Split active space into fragments"
   ]
  },
  {
   "cell_type": "code",
   "execution_count": 70,
   "id": "5f16720a",
   "metadata": {},
   "outputs": [
    {
     "name": "stdout",
     "output_type": "stream",
     "text": [
      "\n",
      " Fragment:  [3, 14, 15, 16, 17, 18]\n",
      " Partition    0 orbitals into a total of    6 orbitals\n",
      "            Index   Sing. Val. Space       \n"
     ]
    },
    {
     "ename": "IndexError",
     "evalue": "index 0 is out of bounds for axis 0 with size 0",
     "output_type": "error",
     "traceback": [
      "\u001b[0;31m---------------------------------------------------------------------------\u001b[0m",
      "\u001b[0;31mIndexError\u001b[0m                                Traceback (most recent call last)",
      "Cell \u001b[0;32mIn[70], line 11\u001b[0m\n\u001b[1;32m      9\u001b[0m \u001b[39mprint\u001b[39m()\n\u001b[1;32m     10\u001b[0m \u001b[39mprint\u001b[39m(\u001b[39m\"\u001b[39m\u001b[39m Fragment: \u001b[39m\u001b[39m\"\u001b[39m, f)\n\u001b[0;32m---> 11\u001b[0m (Of, Sf, Vf), (_, _, _) \u001b[39m=\u001b[39m svd_subspace_partitioning((Oact, Sact, Vact), Pf[fi], S)\n\u001b[1;32m     12\u001b[0m \u001b[39m# (Of, Sf, Vf), (Oact, Sact, Vact) = svd_subspace_partitioning((Oact, Sact, Vact), Pf[fi], S)\u001b[39;00m\n\u001b[1;32m     14\u001b[0m Cfrags\u001b[39m.\u001b[39mappend(np\u001b[39m.\u001b[39mhstack((Of, Sf, Vf)))\n",
      "File \u001b[0;32m~/opt/anaconda3/envs/pyscf2/lib/python3.10/site-packages/orbitalpartitioning/orbitalpartitioning.py:79\u001b[0m, in \u001b[0;36msvd_subspace_partitioning\u001b[0;34m(orbitals_blocks, Pv, S)\u001b[0m\n\u001b[1;32m     77\u001b[0m spaces \u001b[39m=\u001b[39m []\n\u001b[1;32m     78\u001b[0m Cf \u001b[39m=\u001b[39m []\n\u001b[0;32m---> 79\u001b[0m Ce \u001b[39m=\u001b[39m []\n\u001b[1;32m     80\u001b[0m \u001b[39mfor\u001b[39;00m obi, ob \u001b[39min\u001b[39;00m \u001b[39menumerate\u001b[39m(orbitals_blocks):\n\u001b[1;32m     81\u001b[0m     _,sob,Vob \u001b[39m=\u001b[39m np\u001b[39m.\u001b[39mlinalg\u001b[39m.\u001b[39msvd(P \u001b[39m@\u001b[39m S \u001b[39m@\u001b[39m ob, full_matrices\u001b[39m=\u001b[39m\u001b[39mTrue\u001b[39;00m)\n",
      "\u001b[0;31mIndexError\u001b[0m: index 0 is out of bounds for axis 0 with size 0"
     ]
    }
   ],
   "source": [
    "# Project active orbitals onto fragments\n",
    "init_fspace = []\n",
    "clusters = []\n",
    "Cfrags = []\n",
    "orb_index = 1\n",
    "\n",
    "\n",
    "for fi,f in enumerate(frags):\n",
    "    print()\n",
    "    print(\" Fragment: \", f)\n",
    "    (Of, Sf, Vf), (_, _, _) = svd_subspace_partitioning((Oact, Sact, Vact), Pf[fi], S)\n",
    "    # (Of, Sf, Vf), (Oact, Sact, Vact) = svd_subspace_partitioning((Oact, Sact, Vact), Pf[fi], S)\n",
    "\n",
    "    Cfrags.append(np.hstack((Of, Sf, Vf)))\n",
    "    ndocc_f = Of.shape[1]\n",
    "    init_fspace.append((ndocc_f+Sf.shape[1], ndocc_f))\n",
    "    nmof = Of.shape[1] + Sf.shape[1] + Vf.shape[1]\n",
    "    clusters.append(list(range(orb_index, orb_index+nmof)))\n",
    "    orb_index += nmof\n",
    "\n",
    "\n",
    "# Orthogonalize Fragment orbitals\n",
    "# Cfrags = sym_ortho(Cfrags, S)\n",
    "\n",
    "# Pseudo canonicalize fragments\n",
    "# Cfrags = canonicalize(Cfrags, F)\n",
    "\n",
    "\n",
    "Cact = np.hstack(Cfrags)\n",
    "\n",
    "print(\"nick: \", np.linalg.svd(Cact.T @ S @ Cact)[1])\n",
    "# Write Molden files for visualization\n",
    "pyscf.tools.molden.from_mo(mf.mol, \"Pfull.molden\", Pfull)\n",
    "pyscf.tools.molden.from_mo(mf.mol, \"Cact.molden\", Cact)\n",
    "pyscf.tools.molden.from_mo(mf.mol, \"Cenv.molden\", Cenv)\n",
    "for i in range(len(frags)):\n",
    "    pyscf.tools.molden.from_mo(mf.mol, \"Cfrag%i.molden\"%i, Cfrags[i])\n",
    "\n",
    "print(\" init_fspace = \", init_fspace)\n",
    "print(\" clusters    = \", clusters)\n",
    "\n"
   ]
  },
  {
   "cell_type": "markdown",
   "id": "91dc633f-ee84-4875-bfed-57c9c3d7d0a6",
   "metadata": {},
   "source": [
    "# Make Integrals"
   ]
  },
  {
   "cell_type": "code",
   "execution_count": 63,
   "id": "eb3ac06f-7e94-420f-9635-6f64f27c7f05",
   "metadata": {},
   "outputs": [
    {
     "name": "stdout",
     "output_type": "stream",
     "text": [
      "(286, 79)\n",
      "(286, 20)\n",
      "(286, 286)\n"
     ]
    }
   ],
   "source": [
    "print(Cenv.shape)\n",
    "print(Cact.shape)\n",
    "d1_embed = 2 * Cenv @ Cenv.T\n",
    "\n",
    "h0 = pyscf.gto.mole.energy_nuc(mf.mol)\n",
    "h  = pyscf.scf.hf.get_hcore(mf.mol)\n",
    "j, k = pyscf.scf.hf.get_jk(mf.mol, d1_embed, hermi=1)\n",
    "\n",
    "print(h.shape)\n",
    "h0 += np.trace(d1_embed @ ( h + .5*j - .25*k))\n",
    "\n",
    "h = Cact.T @ h @ Cact;\n",
    "j = Cact.T @ j @ Cact;\n",
    "k = Cact.T @ k @ Cact;\n",
    "nact = h.shape[0]\n",
    "\n",
    "h2 = pyscf.ao2mo.kernel(pymol, Cact, aosym=\"s4\", compact=False)\n",
    "h2.shape = (nact, nact, nact, nact)\n",
    "# The use of d1_embed only really makes sense if it has zero electrons in the\n",
    "# active space. Let's warn the user if that's not true\n",
    "\n",
    "S = pymol.intor(\"int1e_ovlp_sph\")\n",
    "n_act = np.trace(S @ d1_embed @ S @ Cact @ Cact.T)\n",
    "if abs(n_act) > 1e-8 == False:\n",
    "    print(n_act)\n",
    "    error(\" I found embedded electrons in the active space?!\")\n",
    "\n",
    "h1 = h + j - .5*k;\n",
    "\n",
    "np.save(\"ints_h0\", h0)\n",
    "np.save(\"ints_h1\", h1)\n",
    "np.save(\"ints_h2\", h2)\n",
    "np.save(\"mo_coeffs\", Cact)\n",
    "np.save(\"overlap_mat\", S)\n",
    "\n",
    "Pa = mf.make_rdm1()[0]\n",
    "Pb = mf.make_rdm1()[1]\n",
    "np.save(\"Pa\", Cact.T @ S @ Pa @ S @ Cact)\n",
    "np.save(\"Pb\", Cact.T @ S @ Pb @ S @ Cact)"
   ]
  },
  {
   "cell_type": "code",
   "execution_count": 64,
   "id": "0fa167fc",
   "metadata": {},
   "outputs": [],
   "source": [
    "import numpy as np\n",
    "Ccmf = np.load(\"Ccmf.npy\")\n",
    "pyscf.tools.molden.from_mo(mf.mol, \"Ccmf.molden\", Ccmf)\n"
   ]
  }
 ],
 "metadata": {
  "kernelspec": {
   "display_name": "Python 3 (ipykernel)",
   "language": "python",
   "name": "python3"
  },
  "language_info": {
   "codemirror_mode": {
    "name": "ipython",
    "version": 3
   },
   "file_extension": ".py",
   "mimetype": "text/x-python",
   "name": "python",
   "nbconvert_exporter": "python",
   "pygments_lexer": "ipython3",
   "version": "3.10.8"
  }
 },
 "nbformat": 4,
 "nbformat_minor": 5
}
