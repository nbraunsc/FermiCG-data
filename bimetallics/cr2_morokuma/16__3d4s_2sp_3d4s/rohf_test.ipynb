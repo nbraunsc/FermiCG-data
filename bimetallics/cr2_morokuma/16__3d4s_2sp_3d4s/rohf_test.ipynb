{
 "cells": [
  {
   "cell_type": "code",
   "execution_count": 148,
   "id": "872297e4-9d52-4b71-981b-9849bfa969ff",
   "metadata": {},
   "outputs": [],
   "source": [
    "import numpy as np\n",
    "import scipy\n",
    "import pyscf\n",
    "import pyscf.tools\n",
    "\n",
    "import orbitalpartitioning"
   ]
  },
  {
   "cell_type": "code",
   "execution_count": 149,
   "id": "38a92200-02bd-4e3d-8a8b-39cae17e095c",
   "metadata": {},
   "outputs": [
    {
     "name": "stdout",
     "output_type": "stream",
     "text": [
      "symmetry:  Cs\n",
      "\n",
      "\n",
      "******** <class 'pyscf.scf.hf_symm.SymAdaptedROHF'> ********\n",
      "method = SymAdaptedROHF-ROHF-RHF\n",
      "initial guess = sad\n",
      "damping factor = 0\n",
      "level_shift factor = 0\n",
      "DIIS = <class 'pyscf.scf.diis.CDIIS'>\n",
      "diis_start_cycle = 1\n",
      "diis_space = 8\n",
      "SCF conv_tol = 1e-08\n",
      "SCF conv_tol_grad = 1e-05\n",
      "SCF max_cycles = 200\n",
      "direct_scf = True\n",
      "direct_scf_tol = 1e-13\n",
      "chkfile to save SCF result = scf.fchk\n",
      "max_memory 4000 MB (current use 0 MB)\n",
      "num. doubly occ = 4  num. singly occ = 3\n",
      "init E= -12.9159699126533\n",
      "HOMO (A') = 0.073327776115038  LUMO (A') = 0.623823556262124\n",
      "cycle= 1 E= -12.5806438958108  delta_E= 0.335  |g|= 0.201  |ddm|= 2.45\n",
      "HOMO (A') = -0.0167359324955989  LUMO (A') = 0.612658246242397\n",
      "cycle= 2 E= -12.6187473373525  delta_E= -0.0381  |g|= 0.0483  |ddm|= 0.672\n",
      "HOMO (A') = 0.00733086580968545  LUMO (A') = 0.617347065628894\n",
      "cycle= 3 E= -12.6212329972717  delta_E= -0.00249  |g|= 0.0146  |ddm|= 0.144\n",
      "HOMO (A') = 0.0137545135518727  LUMO (A') = 0.616018802629854\n",
      "cycle= 4 E= -12.6214563199353  delta_E= -0.000223  |g|= 0.000836  |ddm|= 0.0556\n",
      "HOMO (A') = 0.0132313040418956  LUMO (A') = 0.615683480664534\n",
      "cycle= 5 E= -12.6214566102191  delta_E= -2.9e-07  |g|= 0.000143  |ddm|= 0.000882\n",
      "HOMO (A') = 0.0133175549264417  LUMO (A') = 0.615698410306368\n",
      "cycle= 6 E= -12.6214566305483  delta_E= -2.03e-08  |g|= 1.7e-05  |ddm|= 0.00058\n",
      "HOMO (A') = 0.0133278417162772  LUMO (A') = 0.615695962636157\n",
      "cycle= 7 E= -12.6214566307537  delta_E= -2.05e-10  |g|= 2.58e-06  |ddm|= 5.05e-05\n",
      "HOMO (A') = 0.0133260511846815  LUMO (A') = 0.615695351553343\n",
      "Extra cycle  E= -12.6214566307581  delta_E= -4.42e-12  |g|= 7.22e-07  |ddm|= 5.26e-06\n",
      "converged SCF energy = -12.6214566307581\n",
      " Hartree-Fock Energy: -12.62145663\n"
     ]
    }
   ],
   "source": [
    "molecule = \"\"\"\n",
    "H 0.0 0.0 0.0\n",
    "H 2.0 0.0 0.0\n",
    "H 4.0 0.0 0.0\n",
    "He 0.0 1.0 0.0\n",
    "He 2.0 1.0 0.0\n",
    "He 4.0 1.0 0.0\n",
    "He 6.0 1.0 0.0\n",
    "\"\"\"\n",
    "\n",
    "basis = \"def2-svp\"\n",
    "pymol = pyscf.gto.Mole(\n",
    "        atom    =   molecule,\n",
    "        symmetry=   True,\n",
    "        spin    =   3, # number of unpaired electrons\n",
    "        charge  =   0,\n",
    "        basis   =   basis)\n",
    "\n",
    "\n",
    "pymol.build()\n",
    "print(\"symmetry: \",pymol.topgroup)\n",
    "# mf = pyscf.scf.UHF(pymol).x2c()\n",
    "mf = pyscf.scf.ROHF(pymol)\n",
    "mf.verbose = 4\n",
    "mf.conv_tol = 1e-8\n",
    "mf.conv_tol_grad = 1e-5\n",
    "mf.chkfile = \"scf.fchk\"\n",
    "mf.init_guess = \"sad\"\n",
    "\n",
    "mf.run(max_cycle=200)\n",
    "\n",
    "print(\" Hartree-Fock Energy: %12.8f\" % mf.e_tot)\n",
    "# mf.analyze()\n",
    "\n",
    "# Get data\n",
    "F = mf.get_fock()\n",
    "C = mf.mo_coeff\n",
    "S = mf.get_ovlp()\n",
    "ndocc = mf.nelec[1]\n",
    "nsing = mf.nelec[0] - ndocc\n",
    "nvirt = mf.mol.nao - ndocc - nsing\n",
    "\n",
    "# Just use alpha orbitals\n",
    "Cdocc = mf.mo_coeff[:,0:ndocc]\n",
    "Csing = mf.mo_coeff[:,ndocc:ndocc+nsing]\n",
    "Cvirt = mf.mo_coeff[:,ndocc+nsing:ndocc+nsing+nvirt]\n",
    "\n",
    "nbas = Cdocc.shape[0]"
   ]
  },
  {
   "attachments": {},
   "cell_type": "markdown",
   "id": "926bfd1b",
   "metadata": {},
   "source": [
    "# Define Fragments by AOs"
   ]
  },
  {
   "cell_type": "code",
   "execution_count": 150,
   "id": "45633353-ae0c-47b2-ae89-8d9a66039cd9",
   "metadata": {
    "tags": []
   },
   "outputs": [
    {
     "name": "stdout",
     "output_type": "stream",
     "text": [
      "[[0, 5, 10, 15], [20, 25], [30, 32, 33, 34]]\n"
     ]
    }
   ],
   "source": [
    "# Find AO's corresponding to atoms \n",
    "full = []\n",
    "frag1 = []\n",
    "frag2 = []\n",
    "frag3 = []\n",
    "for ao_idx,ao in enumerate(mf.mol.ao_labels(fmt=False)):\n",
    "    if ao[0] in (0, 1, 2, 3):\n",
    "        if ao[2] in (\"1s\",):\n",
    "            frag1.append(ao_idx)\n",
    "            full.append(ao_idx)\n",
    "    elif ao[0] in (4, 5):\n",
    "        if ao[2] in (\"1s\", ):\n",
    "            frag2.append(ao_idx)\n",
    "            full.append(ao_idx)\n",
    "    elif ao[0] == 6:\n",
    "        if ao[2] in (\"1s\", \"2p\"):\n",
    "            frag3.append(ao_idx)\n",
    "            full.append(ao_idx)\n",
    "\n",
    "\n",
    "frags = [frag1, frag2, frag3]\n",
    "print(frags)\n"
   ]
  },
  {
   "attachments": {},
   "cell_type": "markdown",
   "id": "3efb9920",
   "metadata": {},
   "source": [
    "# Define Projectors\n",
    "We can choose to project onto the non-orthogonal AOs, or onto the symmetrically orthogonalized AOs."
   ]
  },
  {
   "cell_type": "code",
   "execution_count": 151,
   "id": "398f646b",
   "metadata": {},
   "outputs": [],
   "source": [
    "# Define projectors\n",
    "X = np.eye(nbas) \n",
    "X = scipy.linalg.sqrtm(S)\n",
    "Pfull = X[:,full]  # non-orthogonal\n",
    "Pf = []\n",
    "for f in frags:\n",
    "    Pf.append(X[:,f])\n"
   ]
  },
  {
   "attachments": {},
   "cell_type": "markdown",
   "id": "841d2ce9",
   "metadata": {},
   "source": [
    "# Project MOs onto all fragments\n",
    "For each orbital block (Docc, Sing, Virt), project each subspace onto the full list of fragment AOs. This will determine our full active space."
   ]
  },
  {
   "cell_type": "code",
   "execution_count": 152,
   "id": "b5553884",
   "metadata": {},
   "outputs": [
    {
     "name": "stdout",
     "output_type": "stream",
     "text": [
      " Partition   35 orbitals into a total of   10 orbitals\n",
      "            Index   Sing. Val. Space       \n",
      "                0   1.00003222            2*\n",
      "                1   0.99999963            2*\n",
      "                2   0.99938730            2*\n",
      "                3   0.92063974            1*\n",
      "                4   0.86547922            1*\n",
      "                5   0.83131835            0*\n",
      "                6   0.81677897            1*\n",
      "                7   0.77288428            0*\n",
      "                8   0.75149954            0*\n",
      "                9   0.73304633            0*\n",
      "               10   0.31774136            2\n",
      "               11   0.30630899            2\n",
      "               12   0.28726661            2\n",
      "               13   0.15488648            2\n",
      "               14   0.07264573            2\n",
      "               15   0.05922181            2\n",
      "               16   0.04157758            2\n"
     ]
    }
   ],
   "source": [
    "(Oact, Sact, Vact), (Cenv, Cerr, _) = orbitalpartitioning.svd_subspace_partitioning((Cdocc, Csing, Cvirt), Pfull, S)\n",
    "assert(Cerr.shape[1] == 0)\n",
    "Cact = np.hstack((Oact,Vact))"
   ]
  },
  {
   "attachments": {},
   "cell_type": "markdown",
   "id": "d58103c3",
   "metadata": {},
   "source": [
    "# Split active space into fragments"
   ]
  },
  {
   "cell_type": "code",
   "execution_count": 153,
   "id": "5f16720a",
   "metadata": {},
   "outputs": [
    {
     "name": "stdout",
     "output_type": "stream",
     "text": [
      "\n",
      " Fragment:  [0, 5, 10, 15]\n",
      " Partition   35 orbitals into a total of    4 orbitals\n",
      "            Index   Sing. Val. Space       \n",
      "                0   0.87092211            1*\n",
      "                1   0.75316009            0*\n",
      "                2   0.61794346            1*\n",
      "                3   0.53242844            1*\n",
      "                4   0.45988260            0\n",
      "                5   0.41034120            0\n",
      "                6   0.30845594            2\n",
      "                7   0.17574227            2\n",
      "                8   0.12623863            2\n",
      "                9   0.05548682            2\n",
      "               10   0.00012128            0\n",
      "\n",
      " Fragment:  [20, 25]\n",
      " Partition   35 orbitals into a total of    2 orbitals\n",
      "            Index   Sing. Val. Space       \n",
      "                0   0.79085648            0*\n",
      "                1   0.76583704            0*\n",
      "                2   0.11375885            2\n",
      "                3   0.11007515            2\n",
      "                4   0.06916724            1\n",
      "                5   0.05040802            1\n",
      "\n",
      " Fragment:  [30, 32, 33, 34]\n",
      " Partition   35 orbitals into a total of    4 orbitals\n",
      "            Index   Sing. Val. Space       \n",
      "                0   0.99999963            2*\n",
      "                1   0.99950900            2*\n",
      "                2   0.99415354            2*\n",
      "                3   0.82920669            0*\n",
      "                4   0.15485770            2\n",
      "                5   0.05494175            0\n",
      "                6   0.05273211            1\n",
      "                7   0.00418368            1\n",
      "                8   0.00087660            0\n",
      "                9   0.00013400            1\n",
      " init_fspace =  [(4, 1), (2, 2), (1, 1)]\n",
      " clusters    =  [[1, 2, 3, 4], [5, 6], [7, 8, 9, 10]]\n"
     ]
    }
   ],
   "source": [
    "# Project active orbitals onto fragments\n",
    "init_fspace = []\n",
    "clusters = []\n",
    "Cfrags = []\n",
    "orb_index = 1\n",
    "for fi,f in enumerate(frags):\n",
    "    print()\n",
    "    print(\" Fragment: \", f)\n",
    "    (Of, Sf, Vf), (_, _, _) = orbitalpartitioning.svd_subspace_partitioning((Oact, Sact, Vact), Pf[fi], S)\n",
    "    Cfrags.append(np.hstack((Of, Sf, Vf)))\n",
    "    ndocc_f = Of.shape[1]\n",
    "    init_fspace.append((ndocc_f+Sf.shape[1], ndocc_f))\n",
    "    nmof = Of.shape[1] + Sf.shape[1] + Vf.shape[1]\n",
    "    clusters.append(list(range(orb_index, orb_index+nmof)))\n",
    "    orb_index += nmof\n",
    "\n",
    "\n",
    "\n",
    "# Orthogonalize Fragment orbitals\n",
    "Cfrags = orbitalpartitioning.sym_ortho(Cfrags, S)\n",
    "\n",
    "Cact = np.hstack(Cfrags)\n",
    "\n",
    "# Write Molden files for visualization\n",
    "pyscf.tools.molden.from_mo(mf.mol, \"Pfull.molden\", Pfull)\n",
    "pyscf.tools.molden.from_mo(mf.mol, \"Cact.molden\", Cact)\n",
    "pyscf.tools.molden.from_mo(mf.mol, \"Cenv.molden\", Cenv)\n",
    "for i in range(len(frags)):\n",
    "    pyscf.tools.molden.from_mo(mf.mol, \"Cfrag%i.molden\"%i, Cfrags[i])\n",
    "\n",
    "print(\" init_fspace = \", init_fspace)\n",
    "print(\" clusters    = \", clusters)\n"
   ]
  },
  {
   "cell_type": "markdown",
   "id": "91dc633f-ee84-4875-bfed-57c9c3d7d0a6",
   "metadata": {},
   "source": [
    "# Make Integrals"
   ]
  },
  {
   "cell_type": "code",
   "execution_count": 154,
   "id": "eb3ac06f-7e94-420f-9635-6f64f27c7f05",
   "metadata": {},
   "outputs": [
    {
     "name": "stdout",
     "output_type": "stream",
     "text": [
      "(35, 0)\n",
      "(35, 10)\n",
      "(35, 35)\n"
     ]
    }
   ],
   "source": [
    "print(Cenv.shape)\n",
    "print(Cact.shape)\n",
    "d1_embed = 2 * Cenv @ Cenv.T\n",
    "\n",
    "h0 = pyscf.gto.mole.energy_nuc(mf.mol)\n",
    "h  = pyscf.scf.hf.get_hcore(mf.mol)\n",
    "j, k = pyscf.scf.hf.get_jk(mf.mol, d1_embed, hermi=1)\n",
    "\n",
    "print(h.shape)"
   ]
  },
  {
   "cell_type": "code",
   "execution_count": 155,
   "id": "130e7b7f-697e-4448-81f2-458931b4de8d",
   "metadata": {},
   "outputs": [],
   "source": [
    "h0 += np.trace(d1_embed @ ( h + .5*j - .25*k))\n",
    "\n",
    "h = Cact.T @ h @ Cact;\n",
    "j = Cact.T @ j @ Cact;\n",
    "k = Cact.T @ k @ Cact;"
   ]
  },
  {
   "cell_type": "code",
   "execution_count": 156,
   "id": "5047dda7-d4cc-4460-9f5a-0b34b7f16787",
   "metadata": {},
   "outputs": [],
   "source": [
    "nact = h.shape[0]\n",
    "\n",
    "h2 = pyscf.ao2mo.kernel(pymol, Cact, aosym=\"s4\", compact=False)\n",
    "h2.shape = (nact, nact, nact, nact)"
   ]
  },
  {
   "cell_type": "code",
   "execution_count": 157,
   "id": "eb9d44fb-b0ea-48c6-affd-481fc3405daa",
   "metadata": {},
   "outputs": [],
   "source": [
    "# The use of d1_embed only really makes sense if it has zero electrons in the\n",
    "# active space. Let's warn the user if that's not true\n",
    "\n",
    "S = pymol.intor(\"int1e_ovlp_sph\")\n",
    "n_act = np.trace(S @ d1_embed @ S @ Cact @ Cact.T)\n",
    "if abs(n_act) > 1e-8 == False:\n",
    "    print(n_act)\n",
    "    error(\" I found embedded electrons in the active space?!\")\n",
    "\n",
    "h1 = h + j - .5*k;\n"
   ]
  },
  {
   "cell_type": "code",
   "execution_count": 158,
   "id": "48548fca-bae3-46ea-94a6-fa73553eb91d",
   "metadata": {},
   "outputs": [],
   "source": [
    "np.save(\"ints_h0\", h0)\n",
    "np.save(\"ints_h1\", h1)\n",
    "np.save(\"ints_h2\", h2)\n",
    "np.save(\"mo_coeffs\", Cact)\n",
    "np.save(\"overlap_mat\", S)\n",
    "\n",
    "Pa = Cact.T @ S @ mf.make_rdm1()[0] @ S @ Cact\n",
    "Pb = Cact.T @ S @ mf.make_rdm1()[1] @ S @ Cact\n",
    "np.save(\"Pa\", Pa)\n",
    "np.save(\"Pb\", Pb)"
   ]
  },
  {
   "cell_type": "code",
   "execution_count": 159,
   "id": "0fa167fc",
   "metadata": {},
   "outputs": [],
   "source": [
    "import numpy as np\n",
    "Ccmf = np.load(\"Ccmf.npy\")\n",
    "pyscf.tools.molden.from_mo(mf.mol, \"Ccmf.molden\", Ccmf)"
   ]
  },
  {
   "attachments": {},
   "cell_type": "markdown",
   "id": "d57cda3c",
   "metadata": {},
   "source": [
    "# Recompute ROHF"
   ]
  },
  {
   "cell_type": "code",
   "execution_count": 160,
   "id": "92b5ef22",
   "metadata": {},
   "outputs": [
    {
     "name": "stdout",
     "output_type": "stream",
     "text": [
      "[-1.07809959 -1.04553746 -1.01744175 -0.91984778 -0.13864773 -0.07598431\n",
      "  0.01332604  1.96938987  1.9780368   1.97893821]\n",
      "6.999999999999999\n",
      "7.0000000000000036\n",
      "4.0\n",
      "4.0000000000000036\n",
      "PaPa :  7.0000000000000036\n",
      "PbPb :  3.99999999999996\n",
      "11.73334805412517\n",
      "-39.476518651802934\n",
      "-27.743170597677764\n"
     ]
    }
   ],
   "source": [
    "e, U = np.linalg.eigh(Cact.T @ F @ Cact)\n",
    "Ccanon = Cact@U \n",
    "print(e)\n",
    "pyscf.tools.molden.from_mo(mf.mol, \"Cact_canon.molden\", Ccanon)\n",
    "na = 7\n",
    "nb = 4\n",
    "Pa = Ccanon[:,0:na] @ Ccanon[:,0:na].T\n",
    "Pb = Ccanon[:,0:nb] @ Ccanon[:,0:nb].T\n",
    "# Pa += Cenv@Cenv.T\n",
    "# Pb += Cenv@Cenv.T\n",
    "Pmf = mf.make_rdm1()\n",
    "print(np.trace(Pmf[0] @ S))\n",
    "print(np.trace(Pa@S))\n",
    "print(np.trace(Pmf[1] @ S))\n",
    "print(np.trace(Pb@S))\n",
    "\n",
    "print(\"PaPa : \", np.trace(Pa@S@Pmf[0]@S))\n",
    "print(\"PbPb : \", np.trace(Pb@S@Pmf[1]@S))\n",
    "\n",
    "H  = pyscf.scf.hf.get_hcore(mf.mol)\n",
    "J, K = pyscf.scf.hf.get_jk(mf.mol, Cenv@Cenv.T, hermi=1)\n",
    "h2 = pyscf.ao2mo.kernel(pymol, Cact, aosym=\"s4\", compact=False)\n",
    "h2.shape = (nact, nact, nact, nact)\n",
    "\n",
    "ea = np.trace((H+J-K)@Pa )\n",
    "eb = np.trace((H+J-K)@Pb + J@Pa)\n",
    "# Ehf = -15.7323701829171\n",
    "print(mf.energy_nuc())\n",
    "print((ea + eb))\n",
    "print((ea + eb)+mf.energy_nuc())"
   ]
  },
  {
   "cell_type": "code",
   "execution_count": null,
   "id": "2f8590b9",
   "metadata": {},
   "outputs": [],
   "source": []
  }
 ],
 "metadata": {
  "kernelspec": {
   "display_name": "Python 3 (ipykernel)",
   "language": "python",
   "name": "python3"
  },
  "language_info": {
   "codemirror_mode": {
    "name": "ipython",
    "version": 3
   },
   "file_extension": ".py",
   "mimetype": "text/x-python",
   "name": "python",
   "nbconvert_exporter": "python",
   "pygments_lexer": "ipython3",
   "version": "3.7.13"
  }
 },
 "nbformat": 4,
 "nbformat_minor": 5
}
