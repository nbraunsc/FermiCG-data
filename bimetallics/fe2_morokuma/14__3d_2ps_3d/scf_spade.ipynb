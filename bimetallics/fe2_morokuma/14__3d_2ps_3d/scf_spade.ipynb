{
 "cells": [
  {
   "cell_type": "code",
   "execution_count": 2,
   "id": "872297e4-9d52-4b71-981b-9849bfa969ff",
   "metadata": {},
   "outputs": [],
   "source": [
    "import pyscf\n",
    "import pyscf.tools\n",
    "\n",
    "from orbitalpartitioning import *"
   ]
  },
  {
   "cell_type": "code",
   "execution_count": 3,
   "id": "38a92200-02bd-4e3d-8a8b-39cae17e095c",
   "metadata": {},
   "outputs": [
    {
     "name": "stdout",
     "output_type": "stream",
     "text": [
      "symmetry:  C2\n",
      "\n",
      "\n",
      "******** <class 'pyscf.scf.hf_symm.SymAdaptedROHF'> Newton solver flags ********\n",
      "SCF tol = 1e-08\n",
      "conv_tol_grad = 1e-05\n",
      "max. SCF cycles = 200\n",
      "direct_scf = True\n",
      "direct_scf_tol = 1e-13\n",
      "chkfile to save SCF result = scf.fchk\n",
      "max_cycle_inner = 12\n",
      "max_stepsize = 0.05\n",
      "ah_start_tol = 1e+09\n",
      "ah_level_shift = 0\n",
      "ah_conv_tol = 1e-12\n",
      "ah_lindep = 1e-14\n",
      "ah_start_cycle = 1\n",
      "ah_max_cycle = 40\n",
      "ah_grad_trust_region = 2.5\n",
      "kf_interval = 4\n",
      "kf_trust_region = 5\n",
      "canonicalization = True\n",
      "max_memory 4000 MB (current use 0 MB)\n",
      "HOMO (B) = 0.318236980196624  LUMO (A) = 0.320979897364167\n",
      "Initial guess E= -5347.0130535218  |g|= 4.92607\n"
     ]
    },
    {
     "ename": "KeyboardInterrupt",
     "evalue": "",
     "output_type": "error",
     "traceback": [
      "\u001b[0;31m---------------------------------------------------------------------------\u001b[0m",
      "\u001b[0;31mKeyboardInterrupt\u001b[0m                         Traceback (most recent call last)",
      "Cell \u001b[0;32mIn[3], line 32\u001b[0m\n\u001b[1;32m     29\u001b[0m mf\u001b[39m.\u001b[39mchkfile \u001b[39m=\u001b[39m \u001b[39m\"\u001b[39m\u001b[39mscf.fchk\u001b[39m\u001b[39m\"\u001b[39m\n\u001b[1;32m     30\u001b[0m mf\u001b[39m.\u001b[39minit_guess \u001b[39m=\u001b[39m \u001b[39m\"\u001b[39m\u001b[39msad\u001b[39m\u001b[39m\"\u001b[39m\n\u001b[0;32m---> 32\u001b[0m mf\u001b[39m.\u001b[39;49mrun(max_cycle\u001b[39m=\u001b[39;49m\u001b[39m200\u001b[39;49m)\n\u001b[1;32m     34\u001b[0m \u001b[39mprint\u001b[39m(\u001b[39m\"\u001b[39m\u001b[39m Hartree-Fock Energy: \u001b[39m\u001b[39m%12.8f\u001b[39;00m\u001b[39m\"\u001b[39m \u001b[39m%\u001b[39m mf\u001b[39m.\u001b[39me_tot)\n\u001b[1;32m     35\u001b[0m \u001b[39m# mf.analyze()\u001b[39;00m\n\u001b[1;32m     36\u001b[0m \n\u001b[1;32m     37\u001b[0m \u001b[39m# Get data\u001b[39;00m\n",
      "File \u001b[0;32m/opt/anaconda3/envs/pyscf2/lib/python3.10/site-packages/pyscf/lib/misc.py:591\u001b[0m, in \u001b[0;36mStreamObject.run\u001b[0;34m(self, *args, **kwargs)\u001b[0m\n\u001b[1;32m    584\u001b[0m \u001b[39m\u001b[39m\u001b[39m'''\u001b[39;00m\n\u001b[1;32m    585\u001b[0m \u001b[39mCall the kernel function of current object.  `args` will be passed\u001b[39;00m\n\u001b[1;32m    586\u001b[0m \u001b[39mto kernel function.  `kwargs` will be used to update the attributes of\u001b[39;00m\n\u001b[1;32m    587\u001b[0m \u001b[39mcurrent object.  The return value of method run is the object itself.\u001b[39;00m\n\u001b[1;32m    588\u001b[0m \u001b[39mThis allows a series of functions/methods to be executed in pipe.\u001b[39;00m\n\u001b[1;32m    589\u001b[0m \u001b[39m'''\u001b[39;00m\n\u001b[1;32m    590\u001b[0m \u001b[39mself\u001b[39m\u001b[39m.\u001b[39mset(\u001b[39m*\u001b[39m\u001b[39m*\u001b[39mkwargs)\n\u001b[0;32m--> 591\u001b[0m \u001b[39mself\u001b[39;49m\u001b[39m.\u001b[39;49mkernel(\u001b[39m*\u001b[39;49margs)\n\u001b[1;32m    592\u001b[0m \u001b[39mreturn\u001b[39;00m \u001b[39mself\u001b[39m\n",
      "File \u001b[0;32m/opt/anaconda3/envs/pyscf2/lib/python3.10/site-packages/pyscf/soscf/newton_ah.py:723\u001b[0m, in \u001b[0;36m_CIAH_SOSCF.kernel\u001b[0;34m(self, mo_coeff, mo_occ, dm0)\u001b[0m\n\u001b[1;32m    718\u001b[0m \u001b[39mself\u001b[39m\u001b[39m.\u001b[39mbuild(\u001b[39mself\u001b[39m\u001b[39m.\u001b[39mmol)\n\u001b[1;32m    719\u001b[0m \u001b[39mself\u001b[39m\u001b[39m.\u001b[39mdump_flags()\n\u001b[1;32m    721\u001b[0m \u001b[39mself\u001b[39m\u001b[39m.\u001b[39mconverged, \u001b[39mself\u001b[39m\u001b[39m.\u001b[39me_tot, \\\n\u001b[1;32m    722\u001b[0m         \u001b[39mself\u001b[39m\u001b[39m.\u001b[39mmo_energy, \u001b[39mself\u001b[39m\u001b[39m.\u001b[39mmo_coeff, \u001b[39mself\u001b[39m\u001b[39m.\u001b[39mmo_occ \u001b[39m=\u001b[39m \\\n\u001b[0;32m--> 723\u001b[0m         kernel(\u001b[39mself\u001b[39;49m, mo_coeff, mo_occ, dm0, conv_tol\u001b[39m=\u001b[39;49m\u001b[39mself\u001b[39;49m\u001b[39m.\u001b[39;49mconv_tol,\n\u001b[1;32m    724\u001b[0m                conv_tol_grad\u001b[39m=\u001b[39;49m\u001b[39mself\u001b[39;49m\u001b[39m.\u001b[39;49mconv_tol_grad,\n\u001b[1;32m    725\u001b[0m                max_cycle\u001b[39m=\u001b[39;49m\u001b[39mself\u001b[39;49m\u001b[39m.\u001b[39;49mmax_cycle,\n\u001b[1;32m    726\u001b[0m                callback\u001b[39m=\u001b[39;49m\u001b[39mself\u001b[39;49m\u001b[39m.\u001b[39;49mcallback, verbose\u001b[39m=\u001b[39;49m\u001b[39mself\u001b[39;49m\u001b[39m.\u001b[39;49mverbose)\n\u001b[1;32m    728\u001b[0m logger\u001b[39m.\u001b[39mtimer(\u001b[39mself\u001b[39m, \u001b[39m'\u001b[39m\u001b[39mSecond order SCF\u001b[39m\u001b[39m'\u001b[39m, \u001b[39m*\u001b[39mcput0)\n\u001b[1;32m    729\u001b[0m \u001b[39mself\u001b[39m\u001b[39m.\u001b[39m_finalize()\n",
      "File \u001b[0;32m/opt/anaconda3/envs/pyscf2/lib/python3.10/site-packages/pyscf/soscf/newton_ah.py:532\u001b[0m, in \u001b[0;36mkernel\u001b[0;34m(mf, mo_coeff, mo_occ, dm, conv_tol, conv_tol_grad, max_cycle, dump_chk, callback, verbose)\u001b[0m\n\u001b[1;32m    528\u001b[0m cput1 \u001b[39m=\u001b[39m log\u001b[39m.\u001b[39mtimer(\u001b[39m'\u001b[39m\u001b[39minitializing second order scf\u001b[39m\u001b[39m'\u001b[39m, \u001b[39m*\u001b[39mcput0)\n\u001b[1;32m    530\u001b[0m \u001b[39mfor\u001b[39;00m imacro \u001b[39min\u001b[39;00m \u001b[39mrange\u001b[39m(max_cycle):\n\u001b[1;32m    531\u001b[0m     u, g_orb, kfcount, jkcount, dm_last, vhf \u001b[39m=\u001b[39m \\\n\u001b[0;32m--> 532\u001b[0m             rotaiter\u001b[39m.\u001b[39;49msend((mo_coeff, mo_occ, dm, vhf, e_tot))\n\u001b[1;32m    533\u001b[0m     kftot \u001b[39m+\u001b[39m\u001b[39m=\u001b[39m kfcount \u001b[39m+\u001b[39m \u001b[39m1\u001b[39m\n\u001b[1;32m    534\u001b[0m     jktot \u001b[39m+\u001b[39m\u001b[39m=\u001b[39m jkcount \u001b[39m+\u001b[39m \u001b[39m1\u001b[39m\n",
      "File \u001b[0;32m/opt/anaconda3/envs/pyscf2/lib/python3.10/site-packages/pyscf/soscf/newton_ah.py:367\u001b[0m, in \u001b[0;36m_rotate_orb_cc\u001b[0;34m(mf, h1e, s1e, conv_tol_grad, verbose)\u001b[0m\n\u001b[1;32m    364\u001b[0m kfcount \u001b[39m=\u001b[39m \u001b[39m0\u001b[39m\n\u001b[1;32m    365\u001b[0m ikf \u001b[39m=\u001b[39m \u001b[39m0\u001b[39m\n\u001b[0;32m--> 367\u001b[0m \u001b[39mfor\u001b[39;00m ah_end, ihop, w, dxi, hdxi, residual, seig \\\n\u001b[1;32m    368\u001b[0m         \u001b[39min\u001b[39;00m ciah\u001b[39m.\u001b[39mdavidson_cc(h_op, g_op, precond, x0_guess,\n\u001b[1;32m    369\u001b[0m                             tol\u001b[39m=\u001b[39mah_conv_tol, max_cycle\u001b[39m=\u001b[39mmf\u001b[39m.\u001b[39mah_max_cycle,\n\u001b[1;32m    370\u001b[0m                             lindep\u001b[39m=\u001b[39mmf\u001b[39m.\u001b[39mah_lindep, verbose\u001b[39m=\u001b[39mlog):\n\u001b[1;32m    371\u001b[0m     norm_residual \u001b[39m=\u001b[39m numpy\u001b[39m.\u001b[39mlinalg\u001b[39m.\u001b[39mnorm(residual)\n\u001b[1;32m    372\u001b[0m     ah_start_tol \u001b[39m=\u001b[39m \u001b[39mmin\u001b[39m(norm_gorb\u001b[39m*\u001b[39m\u001b[39m5\u001b[39m, mf\u001b[39m.\u001b[39mah_start_tol)\n",
      "File \u001b[0;32m/opt/anaconda3/envs/pyscf2/lib/python3.10/site-packages/pyscf/soscf/ciah.py:231\u001b[0m, in \u001b[0;36mdavidson_cc\u001b[0;34m(h_op, g_op, precond, x0, tol, xs, ax, max_cycle, lindep, dot, verbose)\u001b[0m\n\u001b[1;32m    229\u001b[0m \u001b[39mif\u001b[39;00m nx \u001b[39m==\u001b[39m \u001b[39m0\u001b[39m:\n\u001b[1;32m    230\u001b[0m     xs\u001b[39m.\u001b[39mappend(x0)\n\u001b[0;32m--> 231\u001b[0m     ax\u001b[39m.\u001b[39mappend(h_op(x0))\n\u001b[1;32m    232\u001b[0m \u001b[39melse\u001b[39;00m:\n\u001b[1;32m    233\u001b[0m     \u001b[39mfor\u001b[39;00m i \u001b[39min\u001b[39;00m \u001b[39mrange\u001b[39m(\u001b[39m1\u001b[39m, nx\u001b[39m+\u001b[39m\u001b[39m1\u001b[39m):\n",
      "File \u001b[0;32m/opt/anaconda3/envs/pyscf2/lib/python3.10/site-packages/pyscf/soscf/newton_ah.py:148\u001b[0m, in \u001b[0;36mgen_g_hop_rohf.<locals>.h_op\u001b[0;34m(x)\u001b[0m\n\u001b[1;32m    146\u001b[0m x1[uniq_ab] \u001b[39m=\u001b[39m x\n\u001b[1;32m    147\u001b[0m x1 \u001b[39m=\u001b[39m numpy\u001b[39m.\u001b[39mhstack((x1[uniq_var_a],x1[uniq_var_b]))\n\u001b[0;32m--> 148\u001b[0m \u001b[39mreturn\u001b[39;00m sum_ab(uh_op(x1))\n",
      "File \u001b[0;32m/opt/anaconda3/envs/pyscf2/lib/python3.10/site-packages/pyscf/soscf/newton_ah.py:221\u001b[0m, in \u001b[0;36mgen_g_hop_uhf.<locals>.h_op\u001b[0;34m(x)\u001b[0m\n\u001b[1;32m    219\u001b[0m d1b \u001b[39m=\u001b[39m reduce(numpy\u001b[39m.\u001b[39mdot, (orbvb, x1b, orbob\u001b[39m.\u001b[39mconj()\u001b[39m.\u001b[39mT))\n\u001b[1;32m    220\u001b[0m dm1 \u001b[39m=\u001b[39m numpy\u001b[39m.\u001b[39marray((d1a\u001b[39m+\u001b[39md1a\u001b[39m.\u001b[39mconj()\u001b[39m.\u001b[39mT,d1b\u001b[39m+\u001b[39md1b\u001b[39m.\u001b[39mconj()\u001b[39m.\u001b[39mT))\n\u001b[0;32m--> 221\u001b[0m v1 \u001b[39m=\u001b[39m vind(dm1)\n\u001b[1;32m    222\u001b[0m x2a \u001b[39m+\u001b[39m\u001b[39m=\u001b[39m reduce(numpy\u001b[39m.\u001b[39mdot, (orbva\u001b[39m.\u001b[39mconj()\u001b[39m.\u001b[39mT, v1[\u001b[39m0\u001b[39m], orboa))\n\u001b[1;32m    223\u001b[0m x2b \u001b[39m+\u001b[39m\u001b[39m=\u001b[39m reduce(numpy\u001b[39m.\u001b[39mdot, (orbvb\u001b[39m.\u001b[39mconj()\u001b[39m.\u001b[39mT, v1[\u001b[39m1\u001b[39m], orbob))\n",
      "File \u001b[0;32m/opt/anaconda3/envs/pyscf2/lib/python3.10/site-packages/pyscf/scf/_response_functions.py:207\u001b[0m, in \u001b[0;36m_gen_uhf_response.<locals>.vind\u001b[0;34m(dm1)\u001b[0m\n\u001b[1;32m    206\u001b[0m \u001b[39mdef\u001b[39;00m \u001b[39mvind\u001b[39m(dm1):\n\u001b[0;32m--> 207\u001b[0m     vj, vk \u001b[39m=\u001b[39m mf\u001b[39m.\u001b[39;49mget_jk(mol, dm1, hermi\u001b[39m=\u001b[39;49mhermi)\n\u001b[1;32m    208\u001b[0m     v1 \u001b[39m=\u001b[39m vj[\u001b[39m0\u001b[39m] \u001b[39m+\u001b[39m vj[\u001b[39m1\u001b[39m] \u001b[39m-\u001b[39m vk\n\u001b[1;32m    209\u001b[0m     \u001b[39mreturn\u001b[39;00m v1\n",
      "File \u001b[0;32m/opt/anaconda3/envs/pyscf2/lib/python3.10/site-packages/pyscf/scf/hf.py:2065\u001b[0m, in \u001b[0;36mRHF.get_jk\u001b[0;34m(self, mol, dm, hermi, with_j, with_k, omega)\u001b[0m\n\u001b[1;32m   2063\u001b[0m     \u001b[39mif\u001b[39;00m \u001b[39mself\u001b[39m\u001b[39m.\u001b[39m_eri \u001b[39mis\u001b[39;00m \u001b[39mNone\u001b[39;00m:\n\u001b[1;32m   2064\u001b[0m         \u001b[39mself\u001b[39m\u001b[39m.\u001b[39m_eri \u001b[39m=\u001b[39m mol\u001b[39m.\u001b[39mintor(\u001b[39m'\u001b[39m\u001b[39mint2e\u001b[39m\u001b[39m'\u001b[39m, aosym\u001b[39m=\u001b[39m\u001b[39m'\u001b[39m\u001b[39ms8\u001b[39m\u001b[39m'\u001b[39m)\n\u001b[0;32m-> 2065\u001b[0m     vj, vk \u001b[39m=\u001b[39m dot_eri_dm(\u001b[39mself\u001b[39;49m\u001b[39m.\u001b[39;49m_eri, dm, hermi, with_j, with_k)\n\u001b[1;32m   2066\u001b[0m \u001b[39melse\u001b[39;00m:\n\u001b[1;32m   2067\u001b[0m     vj, vk \u001b[39m=\u001b[39m SCF\u001b[39m.\u001b[39mget_jk(\u001b[39mself\u001b[39m, mol, dm, hermi, with_j, with_k, omega)\n",
      "File \u001b[0;32m/opt/anaconda3/envs/pyscf2/lib/python3.10/site-packages/pyscf/scf/hf.py:761\u001b[0m, in \u001b[0;36mdot_eri_dm\u001b[0;34m(eri, dm, hermi, with_j, with_k)\u001b[0m\n\u001b[1;32m    759\u001b[0m         vk \u001b[39m=\u001b[39m vk\u001b[39m.\u001b[39mreshape(dm\u001b[39m.\u001b[39mshape)\n\u001b[1;32m    760\u001b[0m \u001b[39melse\u001b[39;00m:\n\u001b[0;32m--> 761\u001b[0m     vj, vk \u001b[39m=\u001b[39m _vhf\u001b[39m.\u001b[39;49mincore(eri, dm\u001b[39m.\u001b[39;49mreal, hermi, with_j, with_k)\n\u001b[1;32m    762\u001b[0m     \u001b[39mif\u001b[39;00m dm\u001b[39m.\u001b[39mdtype \u001b[39m==\u001b[39m numpy\u001b[39m.\u001b[39mcomplex128:\n\u001b[1;32m    763\u001b[0m         vs \u001b[39m=\u001b[39m _vhf\u001b[39m.\u001b[39mincore(eri, dm\u001b[39m.\u001b[39mimag, \u001b[39m0\u001b[39m, with_j, with_k)\n",
      "File \u001b[0;32m/opt/anaconda3/envs/pyscf2/lib/python3.10/site-packages/pyscf/scf/_vhf.py:285\u001b[0m, in \u001b[0;36mincore\u001b[0;34m(eri, dms, hermi, with_j, with_k)\u001b[0m\n\u001b[1;32m    281\u001b[0m     \u001b[39mraise\u001b[39;00m \u001b[39mRuntimeError\u001b[39;00m(\u001b[39m'\u001b[39m\u001b[39mArray shape not consistent: DM \u001b[39m\u001b[39m%s\u001b[39;00m\u001b[39m, eri \u001b[39m\u001b[39m%s\u001b[39;00m\u001b[39m'\u001b[39m\n\u001b[1;32m    282\u001b[0m                        \u001b[39m%\u001b[39m (dms_shape, eri\u001b[39m.\u001b[39mshape))\n\u001b[1;32m    284\u001b[0m n_ops \u001b[39m=\u001b[39m \u001b[39mlen\u001b[39m(dmsptr)\n\u001b[0;32m--> 285\u001b[0m fdrv(eri\u001b[39m.\u001b[39;49mctypes\u001b[39m.\u001b[39;49mdata_as(ctypes\u001b[39m.\u001b[39;49mc_void_p),\n\u001b[1;32m    286\u001b[0m      (ctypes\u001b[39m.\u001b[39;49mc_void_p\u001b[39m*\u001b[39;49mn_ops)(\u001b[39m*\u001b[39;49mdmsptr), (ctypes\u001b[39m.\u001b[39;49mc_void_p\u001b[39m*\u001b[39;49mn_ops)(\u001b[39m*\u001b[39;49mvjkptr),\n\u001b[1;32m    287\u001b[0m      ctypes\u001b[39m.\u001b[39;49mc_int(n_ops), ctypes\u001b[39m.\u001b[39;49mc_int(nao),\n\u001b[1;32m    288\u001b[0m      (ctypes\u001b[39m.\u001b[39;49mc_void_p\u001b[39m*\u001b[39;49mn_ops)(\u001b[39m*\u001b[39;49mfjkptr))\n\u001b[1;32m    290\u001b[0m \u001b[39mif\u001b[39;00m with_j:\n\u001b[1;32m    291\u001b[0m     \u001b[39mfor\u001b[39;00m i \u001b[39min\u001b[39;00m \u001b[39mrange\u001b[39m(n_dm):\n",
      "\u001b[0;31mKeyboardInterrupt\u001b[0m: "
     ]
    }
   ],
   "source": [
    "molecule = \"\"\"\n",
    " Fe 1.67785607 0.00052233 0.06475932\n",
    " O 0.00000000 0.00000000 -0.47099074\n",
    " Fe -1.67785607 -0.00052233 0.06475932\n",
    " Cl 1.87002704 -1.09796437 1.99091682\n",
    " Cl 2.93244917 -0.98210488 -1.47467288\n",
    " Cl 2.37160936 2.07954091 -0.50446591\n",
    " Cl -1.87002704 1.09796437 1.99091682\n",
    " Cl -2.93244917 0.98210488 -1.47467288\n",
    " Cl -2.37160936 -2.07954091 -0.50446591\n",
    "\"\"\"\n",
    "\n",
    "basis = \"def2-svp\"\n",
    "pymol = pyscf.gto.Mole(\n",
    "        atom    =   molecule,\n",
    "        symmetry=   True,\n",
    "        spin    =   10, # number of unpaired electrons\n",
    "        charge  =   -2,\n",
    "        basis   =   basis)\n",
    "\n",
    "\n",
    "pymol.build()\n",
    "print(\"symmetry: \",pymol.topgroup)\n",
    "# mf = pyscf.scf.UHF(pymol).x2c()\n",
    "mf = pyscf.scf.ROHF(pymol).newton()\n",
    "mf.verbose = 4\n",
    "mf.conv_tol = 1e-8\n",
    "mf.conv_tol_grad = 1e-5\n",
    "mf.chkfile = \"scf.fchk\"\n",
    "mf.init_guess = \"sad\"\n",
    "\n",
    "mf.run(max_cycle=200)\n",
    "\n",
    "print(\" Hartree-Fock Energy: %12.8f\" % mf.e_tot)\n",
    "# mf.analyze()\n",
    "\n",
    "# Get data\n",
    "F = mf.get_fock()\n",
    "C = mf.mo_coeff\n",
    "S = mf.get_ovlp()\n",
    "ndocc = mf.nelec[1]\n",
    "nsing = mf.nelec[0] - ndocc\n",
    "nvirt = mf.mol.nao - ndocc - nsing\n",
    "\n",
    "# Just use alpha orbitals\n",
    "Cdocc = mf.mo_coeff[:,0:ndocc]\n",
    "Csing = mf.mo_coeff[:,ndocc:ndocc+nsing]\n",
    "Cvirt = mf.mo_coeff[:,ndocc+nsing:ndocc+nsing+nvirt]\n",
    "\n",
    "nbas = Cdocc.shape[0]"
   ]
  },
  {
   "attachments": {},
   "cell_type": "markdown",
   "id": "926bfd1b",
   "metadata": {},
   "source": [
    "# Define Fragments by AOs"
   ]
  },
  {
   "cell_type": "code",
   "execution_count": null,
   "id": "45633353-ae0c-47b2-ae89-8d9a66039cd9",
   "metadata": {
    "tags": []
   },
   "outputs": [
    {
     "name": "stdout",
     "output_type": "stream",
     "text": [
      "[[14, 15, 16, 17, 18], [32, 34, 35, 36], [59, 60, 61, 62, 63]]\n"
     ]
    }
   ],
   "source": [
    "# Find AO's corresponding to atoms\n",
    "full = []\n",
    "frag1 = []\n",
    "frag2 = []\n",
    "frag3 = []\n",
    "for ao_idx,ao in enumerate(mf.mol.ao_labels(fmt=False)):\n",
    "    if ao[0] == 0:\n",
    "        if ao[2] in (\"3d\"):\n",
    "            frag1.append(ao_idx)\n",
    "            full.append(ao_idx)\n",
    "    elif ao[0] == 1:\n",
    "        if ao[2] in (\"2s\", \"2p\"):\n",
    "            frag2.append(ao_idx)\n",
    "            full.append(ao_idx)\n",
    "    elif ao[0] == 2:\n",
    "        if ao[2] in (\"3d\"):\n",
    "            frag3.append(ao_idx)\n",
    "            full.append(ao_idx)\n",
    "\n",
    "\n",
    "frags = [frag1, frag2, frag3]\n",
    "print(frags)\n"
   ]
  },
  {
   "attachments": {},
   "cell_type": "markdown",
   "id": "3efb9920",
   "metadata": {},
   "source": [
    "# Define Projectors\n",
    "We can choose to project onto the non-orthogonal AOs, or onto the symmetrically orthogonalized AOs."
   ]
  },
  {
   "cell_type": "code",
   "execution_count": null,
   "id": "398f646b",
   "metadata": {},
   "outputs": [],
   "source": [
    "# Define projectors\n",
    "X = scipy.linalg.sqrtm(S)\n",
    "X = np.eye(nbas) \n",
    "Pfull = X[:,full]  # non-orthogonal\n",
    "Pf = []\n",
    "for f in frags:\n",
    "    Pf.append(X[:,f])\n"
   ]
  },
  {
   "attachments": {},
   "cell_type": "markdown",
   "id": "841d2ce9",
   "metadata": {},
   "source": [
    "# Project MOs onto all fragments\n",
    "For each orbital block (Docc, Sing, Virt), project each subspace onto the full list of fragment AOs. This will determine our full active space."
   ]
  },
  {
   "cell_type": "code",
   "execution_count": null,
   "id": "b5553884",
   "metadata": {},
   "outputs": [
    {
     "name": "stdout",
     "output_type": "stream",
     "text": [
      " Partition  184 orbitals into a total of   14 orbitals\n",
      "            Index   Sing. Val. Space       \n",
      "                0   0.97400659            1*\n",
      "                1   0.97211937            1*\n",
      "                2   0.96889480            1*\n",
      "                3   0.96872092            1*\n",
      "                4   0.96439472            1*\n",
      "                5   0.95817589            1*\n",
      "                6   0.95784017            1*\n",
      "                7   0.95172191            1*\n",
      "                8   0.95140650            0*\n",
      "                9   0.94499183            1*\n",
      "               10   0.94400875            1*\n",
      "               11   0.87222002            0*\n",
      "               12   0.85521736            0*\n",
      "               13   0.85206009            0*\n",
      "               14   0.52816039            2\n",
      "               15   0.52066053            2\n",
      "               16   0.51322912            2\n",
      "               17   0.30538769            2\n",
      "               18   0.25082382            0\n",
      "               19   0.24838209            0\n",
      "               20   0.22590740            2\n",
      "               21   0.22423709            2\n",
      "               22   0.22259070            2\n",
      "               23   0.22153517            2\n",
      "               24   0.22116447            2\n",
      "               25   0.21859449            2\n",
      "               26   0.21505893            2\n",
      "               27   0.21434140            2\n",
      "               28   0.19151365            2\n",
      "               29   0.19146838            2\n",
      "               30   0.19101716            0\n",
      "               31   0.18932851            0\n",
      "               32   0.15035318            0\n",
      "               33   0.14113558            0\n",
      "               34   0.11276468            0\n",
      "               35   0.11269968            0\n",
      "               36   0.09726531            0\n",
      "               37   0.09526781            0\n"
     ]
    }
   ],
   "source": [
    "(Oact, Sact, Vact), (Cenv, Cerr, _) = svd_subspace_partitioning((Cdocc, Csing, Cvirt), Pfull, S)\n",
    "assert(Cerr.shape[1] == 0)\n",
    "Cact = np.hstack((Oact, Sact, Vact))"
   ]
  },
  {
   "attachments": {},
   "cell_type": "markdown",
   "id": "d58103c3",
   "metadata": {},
   "source": [
    "# Split active space into fragments"
   ]
  },
  {
   "cell_type": "code",
   "execution_count": null,
   "id": "5f16720a",
   "metadata": {},
   "outputs": [
    {
     "name": "stdout",
     "output_type": "stream",
     "text": [
      "\n",
      " Fragment:  [14, 15, 16, 17, 18]\n",
      " Partition   14 orbitals into a total of    5 orbitals\n",
      "            Index   Sing. Val. Space       \n",
      "                0   0.96360199            1*\n",
      "                1   0.96100139            1*\n",
      "                2   0.95010691            1*\n",
      "                3   0.94021212            1*\n",
      "                4   0.92618041            1*\n",
      "                5   0.27002269            0\n",
      "                6   0.16836779            0\n",
      "                7   0.16015297            0\n",
      "                8   0.00020580            0\n",
      "\n",
      " Fragment:  [32, 34, 35, 36]\n",
      " Partition   14 orbitals into a total of    4 orbitals\n",
      "            Index   Sing. Val. Space       \n",
      "                0   0.94829241            0*\n",
      "                1   0.82386077            0*\n",
      "                2   0.81726287            0*\n",
      "                3   0.81584441            0*\n",
      "                4   0.26475729            1\n",
      "                5   0.23905017            1\n",
      "                6   0.23752622            1\n",
      "                7   0.09035683            1\n",
      "\n",
      " Fragment:  [59, 60, 61, 62, 63]\n",
      " Partition   14 orbitals into a total of    5 orbitals\n",
      "            Index   Sing. Val. Space       \n",
      "                0   0.96360199            1*\n",
      "                1   0.96100139            1*\n",
      "                2   0.95010691            1*\n",
      "                3   0.94021212            1*\n",
      "                4   0.92618041            1*\n",
      "                5   0.27002269            0\n",
      "                6   0.16836779            0\n",
      "                7   0.16015297            0\n",
      "                8   0.00020580            0\n",
      "\n",
      "WARN: orbitals [ 0  1  2  3  4  9 10 11 12 13] not symmetrized, norm = [0.5 0.5 0.5 0.5 0.5 0.5 0.5 0.5 0.5 0.5]\n",
      "\n",
      "\n",
      "WARN: orbitals [ 0  1  2  3  4  9 10 11 12 13] not symmetrized, norm = [0.5 0.5 0.5 0.5 0.5 0.5 0.5 0.5 0.5 0.5]\n",
      "\n",
      "\n",
      "WARN: orbitals [10 11 12 13 14 15 16 17 18 19 20 21 22 23 24 25 26 27 28 29 30 31 32 33\n",
      " 34 35 36 37 38 39 40 41 42 43 44 45 46 47 48 49 50 51 52 53 54 55 56 57\n",
      " 58 59 60 61 62 63 64 65 66 67 68 69 70 71] not symmetrized, norm = [0.5420464  0.52315628 0.53960389 0.69478693 0.71302156 0.57785249\n",
      " 0.58092977 0.55910629 0.70565624 0.61220261 0.68875873 0.55346938\n",
      " 0.7581095  0.70017485 0.67519183 0.67439485 0.58742169 0.54426222\n",
      " 0.59653021 0.7325361  0.5360682  0.64238022 0.530301   0.55046437\n",
      " 0.61545197 0.52918902 0.73707277 0.62626777 0.50050124 0.59250671\n",
      " 0.60523643 0.75530209 0.64393546 0.86828778 0.55579987 0.77854806\n",
      " 0.81240639 0.52571253 0.80836251 0.70559155 0.54385416 0.81229618\n",
      " 0.7507907  0.61396715 0.65404701 0.55554338 0.64083485 0.68963346\n",
      " 0.5160135  0.65541536 0.82910112 0.50681534 0.58678056 0.65425309\n",
      " 0.58074435 0.5806669  0.54408918 0.59397982 0.53301691 0.55954141\n",
      " 0.57493884 0.59488805]\n",
      "\n",
      "\n",
      "WARN: orbitals [0 1 2 3 4] not symmetrized, norm = [0.5 0.5 0.5 0.5 0.5]\n",
      "\n",
      "\n",
      "WARN: orbitals [0 1 2 3 4] not symmetrized, norm = [0.5 0.5 0.5 0.5 0.5]\n",
      "\n",
      " init_fspace =  [(5, 0), (4, 4), (5, 0)]\n",
      " clusters    =  [[1, 2, 3, 4, 5], [6, 7, 8, 9], [10, 11, 12, 13, 14]]\n"
     ]
    }
   ],
   "source": [
    "# Project active orbitals onto fragments\n",
    "init_fspace = []\n",
    "clusters = []\n",
    "Cfrags = []\n",
    "orb_index = 1\n",
    "\n",
    "\n",
    "for fi,f in enumerate(frags):\n",
    "    print()\n",
    "    print(\" Fragment: \", f)\n",
    "    (Of, Sf, Vf), (_, _, _) = svd_subspace_partitioning((Oact, Sact, Vact), Pf[fi], S)\n",
    "    Cfrags.append(np.hstack((Of, Sf, Vf)))\n",
    "    ndocc_f = Of.shape[1]\n",
    "    init_fspace.append((ndocc_f+Sf.shape[1], ndocc_f))\n",
    "    nmof = Of.shape[1] + Sf.shape[1] + Vf.shape[1]\n",
    "    clusters.append(list(range(orb_index, orb_index+nmof)))\n",
    "    orb_index += nmof\n",
    "\n",
    "\n",
    "\n",
    "# Orthogonalize Fragment orbitals\n",
    "Cfrags = sym_ortho(Cfrags, S)\n",
    "\n",
    "# Pseudo canonicalize fragments\n",
    "Cfrags = canonicalize(Cfrags, F)\n",
    "\n",
    "\n",
    "Cact = np.hstack(Cfrags)\n",
    "\n",
    "# Write Molden files for visualization\n",
    "pyscf.tools.molden.from_mo(mf.mol, \"Pfull.molden\", Pfull)\n",
    "pyscf.tools.molden.from_mo(mf.mol, \"Cact.molden\", Cact)\n",
    "pyscf.tools.molden.from_mo(mf.mol, \"Cenv.molden\", Cenv)\n",
    "for i in range(len(frags)):\n",
    "    pyscf.tools.molden.from_mo(mf.mol, \"Cfrag%i.molden\"%i, Cfrags[i])\n",
    "\n",
    "print(\" init_fspace = \", init_fspace)\n",
    "print(\" clusters    = \", clusters)\n",
    "\n",
    "\n",
    "# data[\"Cact\"] = Cact\n",
    "# data[\"init_fspace\"] = init_fspace \n",
    "# data[\"clusters\"] = clusters \n",
    "# with open('data_CrOCr.pickle', 'wb') as handle:\n",
    "#     pickle.dump(data, handle)\n"
   ]
  },
  {
   "cell_type": "markdown",
   "id": "91dc633f-ee84-4875-bfed-57c9c3d7d0a6",
   "metadata": {},
   "source": [
    "# Make Integrals"
   ]
  },
  {
   "cell_type": "code",
   "execution_count": null,
   "id": "eb3ac06f-7e94-420f-9635-6f64f27c7f05",
   "metadata": {},
   "outputs": [
    {
     "ename": "NameError",
     "evalue": "name 'Cenv' is not defined",
     "output_type": "error",
     "traceback": [
      "\u001b[0;31m---------------------------------------------------------------------------\u001b[0m",
      "\u001b[0;31mNameError\u001b[0m                                 Traceback (most recent call last)",
      "Cell \u001b[0;32mIn[1], line 1\u001b[0m\n\u001b[0;32m----> 1\u001b[0m \u001b[39mprint\u001b[39m(Cenv\u001b[39m.\u001b[39mshape)\n\u001b[1;32m      2\u001b[0m \u001b[39mprint\u001b[39m(Cact\u001b[39m.\u001b[39mshape)\n\u001b[1;32m      3\u001b[0m d1_embed \u001b[39m=\u001b[39m \u001b[39m2\u001b[39m \u001b[39m*\u001b[39m Cenv \u001b[39m@\u001b[39m Cenv\u001b[39m.\u001b[39mT\n",
      "\u001b[0;31mNameError\u001b[0m: name 'Cenv' is not defined"
     ]
    }
   ],
   "source": [
    "print(Cenv.shape)\n",
    "print(Cact.shape)\n",
    "d1_embed = 2 * Cenv @ Cenv.T\n",
    "\n",
    "h0 = pyscf.gto.mole.energy_nuc(mf.mol)\n",
    "h  = pyscf.scf.hf.get_hcore(mf.mol)\n",
    "j, k = pyscf.scf.hf.get_jk(mf.mol, d1_embed, hermi=1)\n",
    "\n",
    "print(h.shape)"
   ]
  },
  {
   "cell_type": "code",
   "execution_count": null,
   "id": "130e7b7f-697e-4448-81f2-458931b4de8d",
   "metadata": {},
   "outputs": [],
   "source": [
    "h0 += np.trace(d1_embed @ ( h + .5*j - .25*k))\n",
    "\n",
    "h = Cact.T @ h @ Cact;\n",
    "j = Cact.T @ j @ Cact;\n",
    "k = Cact.T @ k @ Cact;"
   ]
  },
  {
   "cell_type": "code",
   "execution_count": null,
   "id": "5047dda7-d4cc-4460-9f5a-0b34b7f16787",
   "metadata": {},
   "outputs": [],
   "source": [
    "nact = h.shape[0]\n",
    "\n",
    "h2 = pyscf.ao2mo.kernel(pymol, Cact, aosym=\"s4\", compact=False)\n",
    "h2.shape = (nact, nact, nact, nact)"
   ]
  },
  {
   "cell_type": "code",
   "execution_count": null,
   "id": "eb9d44fb-b0ea-48c6-affd-481fc3405daa",
   "metadata": {},
   "outputs": [],
   "source": [
    "# The use of d1_embed only really makes sense if it has zero electrons in the\n",
    "# active space. Let's warn the user if that's not true\n",
    "\n",
    "S = pymol.intor(\"int1e_ovlp_sph\")\n",
    "n_act = np.trace(S @ d1_embed @ S @ Cact @ Cact.T)\n",
    "if abs(n_act) > 1e-8 == False:\n",
    "    print(n_act)\n",
    "    error(\" I found embedded electrons in the active space?!\")\n",
    "\n",
    "h1 = h + j - .5*k;\n"
   ]
  },
  {
   "cell_type": "code",
   "execution_count": null,
   "id": "48548fca-bae3-46ea-94a6-fa73553eb91d",
   "metadata": {},
   "outputs": [],
   "source": [
    "np.save(\"ints_h0\", h0)\n",
    "np.save(\"ints_h1\", h1)\n",
    "np.save(\"ints_h2\", h2)\n",
    "np.save(\"mo_coeffs\", Cact)\n",
    "np.save(\"overlap_mat\", S)\n",
    "\n",
    "Pa = mf.make_rdm1()[0]\n",
    "Pb = mf.make_rdm1()[1]\n",
    "np.save(\"Pa\", Cact.T @ S @ Pa @ S @ Cact)\n",
    "np.save(\"Pb\", Cact.T @ S @ Pb @ S @ Cact)"
   ]
  },
  {
   "cell_type": "code",
   "execution_count": null,
   "id": "0fa167fc",
   "metadata": {},
   "outputs": [
    {
     "name": "stdout",
     "output_type": "stream",
     "text": [
      "\n",
      "WARN: orbitals [ 0  1  2  3  4  9 10 11 12 13] not symmetrized, norm = [0.5 0.5 0.5 0.5 0.5 0.5 0.5 0.5 0.5 0.5]\n",
      "\n"
     ]
    }
   ],
   "source": [
    "import numpy as np\n",
    "Ccmf = np.load(\"Ccmf.npy\")\n",
    "pyscf.tools.molden.from_mo(mf.mol, \"Ccmf.molden\", Ccmf)\n"
   ]
  }
 ],
 "metadata": {
  "kernelspec": {
   "display_name": "Python 3 (ipykernel)",
   "language": "python",
   "name": "python3"
  },
  "language_info": {
   "codemirror_mode": {
    "name": "ipython",
    "version": 3
   },
   "file_extension": ".py",
   "mimetype": "text/x-python",
   "name": "python",
   "nbconvert_exporter": "python",
   "pygments_lexer": "ipython3",
   "version": "3.10.10"
  }
 },
 "nbformat": 4,
 "nbformat_minor": 5
}
