{
 "cells": [
  {
   "cell_type": "code",
   "execution_count": 1,
   "id": "872297e4-9d52-4b71-981b-9849bfa969ff",
   "metadata": {},
   "outputs": [],
   "source": [
    "import pyscf\n",
    "import pyscf.tools"
   ]
  },
  {
   "cell_type": "code",
   "execution_count": 2,
   "id": "38a92200-02bd-4e3d-8a8b-39cae17e095c",
   "metadata": {},
   "outputs": [],
   "source": [
    "molecule = \"\"\"\n",
    " Fe 1.67785607 0.00052233 0.06475932\n",
    " Fe -1.67785607 -0.00052233 0.06475932\n",
    " O 0.00000000 0.00000000 -0.47099074\n",
    " Cl 1.87002704 -1.09796437 1.99091682\n",
    " Cl 2.93244917 -0.98210488 -1.47467288\n",
    " Cl 2.37160936 2.07954091 -0.50446591\n",
    " Cl -1.87002704 1.09796437 1.99091682\n",
    " Cl -2.93244917 0.98210488 -1.47467288\n",
    " Cl -2.37160936 -2.07954091 -0.50446591\n",
    "\"\"\""
   ]
  },
  {
   "cell_type": "code",
   "execution_count": 3,
   "id": "45633353-ae0c-47b2-ae89-8d9a66039cd9",
   "metadata": {
    "tags": []
   },
   "outputs": [
    {
     "name": "stdout",
     "output_type": "stream",
     "text": [
      "symmetry:  C2\n",
      "\n",
      "\n",
      "******** <class 'pyscf.scf.hf_symm.SymAdaptedROHF'> ********\n",
      "method = SymAdaptedROHF-ROHF-RHF\n",
      "initial guess = sad\n",
      "damping factor = 0\n",
      "level_shift factor = 0\n",
      "DIIS = <class 'pyscf.scf.diis.CDIIS'>\n",
      "diis_start_cycle = 1\n",
      "diis_space = 8\n",
      "SCF conv_tol = 1e-08\n",
      "SCF conv_tol_grad = 1e-05\n",
      "SCF max_cycles = 200\n",
      "direct_scf = True\n",
      "direct_scf_tol = 1e-13\n",
      "chkfile to save SCF result = scf.fchk\n",
      "max_memory 4000 MB (current use 0 MB)\n",
      "num. doubly occ = 77  num. singly occ = 10\n",
      "init E= -5351.41478186842\n",
      "HOMO (B) = 0.318236980196628  LUMO (A) = 0.320979897364191\n",
      "cycle= 1 E= -5347.01305352181  delta_E=  4.4  |g|= 4.93  |ddm|= 11.8\n",
      "HOMO (B) = -0.208577216881658  LUMO (A) = 0.00879930358550486\n",
      "cycle= 2 E= -5326.86878641886  delta_E= 20.1  |g|= 8.88  |ddm|= 13.1\n",
      "HOMO (B) = 1.25634475236875  LUMO (B) = 0.0701291625722303\n",
      "cycle= 3 E= -5328.84109730651  delta_E= -1.97  |g|= 5.69  |ddm|= 29.9\n",
      "HOMO (A) = 0.189978800807618  LUMO (B) = 0.32296698202972\n",
      "cycle= 4 E= -5355.41569900171  delta_E= -26.6  |g|= 0.865  |ddm|= 29.4\n",
      "HOMO (B) = 0.138065552603543  LUMO (A) = 0.343121636074051\n",
      "cycle= 5 E= -5355.57516534152  delta_E= -0.159  |g|= 1.01  |ddm|= 1.33\n",
      "HOMO (B) = 0.12457273120626  LUMO (A) = 0.359902502293084\n",
      "cycle= 6 E= -5355.79704390343  delta_E= -0.222  |g|= 0.501  |ddm|= 0.577\n",
      "HOMO (B) = 0.0675151738735669  LUMO (A) = 0.357045879802323\n",
      "cycle= 7 E= -5355.82084737326  delta_E= -0.0238  |g|= 0.284  |ddm|= 0.574\n",
      "HOMO (B) = 0.0523803570781103  LUMO (A) = 0.35547385420192\n",
      "cycle= 8 E= -5355.86809664147  delta_E= -0.0472  |g|= 0.214  |ddm|= 0.47\n",
      "HOMO (B) = 0.0339756220890476  LUMO (A) = 0.353576877781315\n",
      "cycle= 9 E= -5355.87576386016  delta_E= -0.00767  |g|= 0.158  |ddm|= 0.24\n",
      "HOMO (B) = 0.0196298876491634  LUMO (A) = 0.351618768194756\n",
      "cycle= 10 E= -5355.87887068565  delta_E= -0.00311  |g|= 0.117  |ddm|= 0.234\n",
      "HOMO (B) = -0.000874393380921761  LUMO (A) = 0.34946446133321\n",
      "cycle= 11 E= -5355.87136485407  delta_E= 0.00751  |g|= 0.12  |ddm|= 0.263\n",
      "HOMO (B) = 0.00178168725905316  LUMO (A) = 0.348895804299357\n",
      "cycle= 12 E= -5355.87973105664  delta_E= -0.00837  |g|= 0.0774  |ddm|= 0.206\n",
      "HOMO (B) = 0.00664413092208424  LUMO (A) = 0.349296087470931\n",
      "cycle= 13 E= -5355.88264642357  delta_E= -0.00292  |g|= 0.0646  |ddm|= 0.144\n",
      "HOMO (B) = 0.00574825800664866  LUMO (A) = 0.349202163494917\n",
      "cycle= 14 E= -5355.8852356143  delta_E= -0.00259  |g|= 0.0485  |ddm|= 0.113\n",
      "HOMO (B) = 0.00468690354731396  LUMO (A) = 0.349098617984997\n",
      "cycle= 15 E= -5355.88647386053  delta_E= -0.00124  |g|= 0.0385  |ddm|= 0.0743\n",
      "HOMO (B) = 0.000732524044675825  LUMO (A) = 0.348668404698542\n",
      "cycle= 16 E= -5355.88327716295  delta_E= 0.0032  |g|= 0.0609  |ddm|= 0.185\n",
      "HOMO (B) = 0.00107507577412642  LUMO (A) = 0.348730034756181\n",
      "cycle= 17 E= -5355.88685750816  delta_E= -0.00358  |g|= 0.0359  |ddm|= 0.173\n",
      "HOMO (B) = 0.00379575276563556  LUMO (A) = 0.348850228919353\n",
      "cycle= 18 E= -5355.88663357221  delta_E= 0.000224  |g|= 0.0374  |ddm|= 0.119\n",
      "HOMO (B) = 0.00145654669027988  LUMO (A) = 0.348642284106331\n",
      "cycle= 19 E= -5355.88857447324  delta_E= -0.00194  |g|= 0.00791  |ddm|= 0.078\n",
      "HOMO (B) = 0.00141052216210439  LUMO (A) = 0.348686670886795\n",
      "cycle= 20 E= -5355.88856901535  delta_E= 5.46e-06  |g|= 0.0081  |ddm|= 0.0292\n",
      "HOMO (B) = 0.00183727134057516  LUMO (A) = 0.34871210800597\n",
      "cycle= 21 E= -5355.88865263889  delta_E= -8.36e-05  |g|= 0.00351  |ddm|= 0.0198\n",
      "HOMO (B) = 0.00142794422101641  LUMO (A) = 0.348669438217624\n",
      "cycle= 22 E= -5355.88859190432  delta_E= 6.07e-05  |g|= 0.00718  |ddm|= 0.0174\n",
      "HOMO (B) = 0.00157771179597556  LUMO (A) = 0.348689592148455\n",
      "cycle= 23 E= -5355.88865329285  delta_E= -6.14e-05  |g|= 0.00291  |ddm|= 0.0179\n",
      "HOMO (B) = 0.00159956581487521  LUMO (A) = 0.348694328730663\n",
      "cycle= 24 E= -5355.88866308178  delta_E= -9.79e-06  |g|= 0.00144  |ddm|= 0.00812\n",
      "HOMO (B) = 0.00165700951893543  LUMO (A) = 0.348702776607226\n",
      "cycle= 25 E= -5355.88866136571  delta_E= 1.72e-06  |g|= 0.00182  |ddm|= 0.00513\n",
      "HOMO (B) = 0.00164986376805009  LUMO (A) = 0.348701155770362\n",
      "cycle= 26 E= -5355.8886659036  delta_E= -4.54e-06  |g|= 0.000452  |ddm|= 0.00408\n",
      "HOMO (B) = 0.00164424902308296  LUMO (A) = 0.34870165051889\n",
      "cycle= 27 E= -5355.88866565229  delta_E= 2.51e-07  |g|= 0.000595  |ddm|= 0.00158\n",
      "HOMO (B) = 0.00166885683875447  LUMO (A) = 0.348704906926274\n",
      "cycle= 28 E= -5355.88866612445  delta_E= -4.72e-07  |g|= 0.000206  |ddm|= 0.00149\n",
      "HOMO (B) = 0.00165835175379175  LUMO (A) = 0.348704870135891\n",
      "cycle= 29 E= -5355.88866612787  delta_E= -3.42e-09  |g|= 0.000186  |ddm|= 0.000657\n",
      "HOMO (B) = 0.00164765331823377  LUMO (A) = 0.348705016110381\n",
      "cycle= 30 E= -5355.88866611785  delta_E= 1e-08  |g|= 0.000216  |ddm|= 0.000754\n",
      "HOMO (B) = 0.00166169914413812  LUMO (A) = 0.348705664130758\n",
      "cycle= 31 E= -5355.88866617149  delta_E= -5.36e-08  |g|= 7.6e-05  |ddm|= 0.00049\n",
      "HOMO (B) = 0.00166140498342505  LUMO (A) = 0.348705633165703\n",
      "cycle= 32 E= -5355.88866615083  delta_E= 2.07e-08  |g|= 0.000137  |ddm|= 0.000385\n",
      "HOMO (B) = 0.0016619568217742  LUMO (A) = 0.348705722947208\n",
      "cycle= 33 E= -5355.88866616657  delta_E= -1.57e-08  |g|= 9.26e-05  |ddm|= 0.000416\n",
      "HOMO (B) = 0.00166233061769566  LUMO (A) = 0.348705798471822\n",
      "cycle= 34 E= -5355.88866617702  delta_E= -1.05e-08  |g|= 4.24e-05  |ddm|= 0.000234\n",
      "HOMO (B) = 0.00166167494556552  LUMO (A) = 0.348705803653796\n",
      "cycle= 35 E= -5355.88866617851  delta_E= -1.48e-09  |g|= 2.76e-05  |ddm|= 0.000112\n",
      "HOMO (B) = 0.00166193560659063  LUMO (A) = 0.348705919894126\n",
      "cycle= 36 E= -5355.88866617922  delta_E= -7.17e-10  |g|= 1.66e-05  |ddm|= 6.98e-05\n",
      "HOMO (B) = 0.00166142445977839  LUMO (A) = 0.348705848255229\n",
      "cycle= 37 E= -5355.88866617884  delta_E= 3.83e-10  |g|= 2.28e-05  |ddm|= 7.54e-05\n",
      "HOMO (B) = 0.00166213110849027  LUMO (A) = 0.348705918697437\n",
      "cycle= 38 E= -5355.88866617956  delta_E= -7.15e-10  |g|= 7.11e-06  |ddm|= 5.39e-05\n",
      "HOMO (B) = 0.00166148440228775  LUMO (A) = 0.348705934821847\n",
      "Extra cycle  E= -5355.88866617783  delta_E= 1.73e-09  |g|= 3.49e-05  |ddm|= 8.42e-05\n",
      "converged SCF energy = -5355.88866617783\n",
      " Hartree-Fock Energy: -5355.88866618\n"
     ]
    }
   ],
   "source": [
    "basis = \"def2-svp\"\n",
    "pymol = pyscf.gto.Mole(\n",
    "        atom    =   molecule,\n",
    "        symmetry=   True,\n",
    "        spin    =   10, # number of unpaired electrons\n",
    "        charge  =   -2,\n",
    "        basis   =   basis)\n",
    "\n",
    "\n",
    "pymol.build()\n",
    "print(\"symmetry: \",pymol.topgroup)\n",
    "# mf = pyscf.scf.UHF(pymol).x2c()\n",
    "mf = pyscf.scf.ROHF(pymol)\n",
    "mf.verbose = 4\n",
    "mf.conv_tol = 1e-8\n",
    "mf.conv_tol_grad = 1e-5\n",
    "mf.chkfile = \"scf.fchk\"\n",
    "mf.init_guess = \"sad\"\n",
    "mf.run(max_cycle=200)\n",
    "\n",
    "print(\" Hartree-Fock Energy: %12.8f\" % mf.e_tot)\n",
    "# mf.analyze()"
   ]
  },
  {
   "cell_type": "code",
   "execution_count": 4,
   "id": "e4358a91-3329-4260-ad48-a9696651d9da",
   "metadata": {},
   "outputs": [],
   "source": [
    "F = mf.get_fock()"
   ]
  },
  {
   "cell_type": "code",
   "execution_count": 5,
   "id": "3bc8b61e-6809-4ebf-8d95-22a907d8115c",
   "metadata": {
    "tags": []
   },
   "outputs": [],
   "source": [
    "import numpy as np\n",
    "import scipy\n",
    "import copy as cp\n",
    "import math\n",
    "\n",
    "def get_frag_bath(Pin, frag, S, thresh=1e-7, verbose=2):\n",
    "    print(\" Frag: \", frag)\n",
    "    X = scipy.linalg.sqrtm(S)\n",
    "    Xinv = scipy.linalg.inv(X)\n",
    "\n",
    "    Nbas = S.shape[0]\n",
    "    Cfrag = Xinv@np.eye(Nbas)[:,frag]\n",
    "    \n",
    "\n",
    "    P = X@Pin@X.T\n",
    "\n",
    "    nfrag = np.trace(P[frag,:][:,frag])\n",
    "    P[frag,:] = 0\n",
    "    P[:,frag] = 0\n",
    "    bath_idx = []\n",
    "    env_idx = []\n",
    "    e,U = np.linalg.eigh(P)\n",
    "    nbath = 0.0\n",
    "    for nidx,ni in enumerate(e):\n",
    "        if math.isclose(ni, 1, abs_tol=thresh):\n",
    "            env_idx.append(nidx)\n",
    "        elif thresh < ni < 1-thresh:\n",
    "            if verbose > 1:\n",
    "                print(\" eigvalue: %12.8f\" % ni)\n",
    "            bath_idx.append(nidx)\n",
    "            nbath += ni\n",
    "        \n",
    "            \n",
    "    print(\" # Electrons frag: %12.8f bath: %12.8f total: %12.8f\" %(nfrag, nbath, nfrag+nbath))\n",
    "    Cenv = Xinv@U[:,env_idx]\n",
    "    Cbath = Xinv@U[:,bath_idx]\n",
    "    \n",
    "    \n",
    "    C = np.hstack((Cfrag, Cbath))\n",
    "    \n",
    "    # Get virtual orbitals (these are just the orthogonal complement of the env and frag/bath\n",
    "    Q = np.eye(C.shape[0]) - X@C@C.T@X - X@Cenv@Cenv.T@X\n",
    "    e,U = np.linalg.eigh(Q)\n",
    "    vir_idx = []\n",
    "    for nidx,ni in enumerate(e):\n",
    "        if math.isclose(ni, 1, abs_tol=thresh):\n",
    "            vir_idx.append(nidx)\n",
    "    Cvir = Xinv@U[:,vir_idx]\n",
    "\n",
    "    assert(Cenv.shape[1] + Cvir.shape[1] + C.shape[1] == Nbas)\n",
    "\n",
    "          \n",
    "    # print(C.T@S@C)\n",
    "    return (Cenv, C, Cvir)\n",
    "\n",
    "def gram_schmidt(frags, S, thresh=1e-8):\n",
    "    # |v'> = (1-sum_i |i><i|) |v>\n",
    "    #      = |v> - sum_i |i><i|v>\n",
    "    Nbas = S.shape[1]\n",
    "    seen = []\n",
    "    out = []\n",
    "    seen = np.zeros((Nbas, 0))\n",
    "\n",
    "    for f in frags:\n",
    "        outf = np.zeros((Nbas, 0))\n",
    "        # grab each orbital\n",
    "        for fi in range(f.shape[1]):\n",
    "            v = f[:,fi]\n",
    "            v.shape = (Nbas, 1)\n",
    "\n",
    "            # Compare to previous orbitals\n",
    "            for fj in range(seen.shape[1]):\n",
    "                j = seen[:,fj]\n",
    "                j.shape = (Nbas, 1)\n",
    "                ovlp = (j.T @ S @ v)[0]\n",
    "                v = v - j * ovlp\n",
    "\n",
    "                norm = np.sqrt((v.T @ S @ v)[0])\n",
    "                if norm < thresh:\n",
    "                    print(\" Warning: small norm in GS: \", norm)\n",
    "                v = v/norm\n",
    "            \n",
    "            outf = np.hstack((outf, v))\n",
    "            seen = np.hstack((seen, v))\n",
    "        out.append(outf)\n",
    "    return out\n",
    "\n",
    "def sym_ortho(frags, S, thresh=1e-8):\n",
    "    Nbas = S.shape[1]\n",
    "    \n",
    "    inds = []\n",
    "    Cnonorth = np.hstack(frags)\n",
    "    shift = 0\n",
    "    for f in frags:\n",
    "        inds.append(list(range(shift, shift+f.shape[1])))\n",
    "        shift += f.shape[1]\n",
    "        \n",
    "    \n",
    "    Smo = Cnonorth.T @ S @ Cnonorth\n",
    "    X = np.linalg.inv(scipy.linalg.sqrtm(Smo))\n",
    "    # print(Cnonorth.shape, X.shape)\n",
    "    Corth = Cnonorth @ X\n",
    "    \n",
    "    frags2 = []\n",
    "    for f in inds:\n",
    "        frags2.append(Corth[:,f])\n",
    "    return frags2\n",
    "\n",
    "def get_spade_orbitals(orb_list, C, S, thresh=1e-6):\n",
    "    \"\"\"\n",
    "    Find the columns in C that span the rows specified by orb_list\n",
    "    \"\"\"\n",
    "    \n",
    "    # First orthogonalize C\n",
    "    X = scipy.linalg.sqrtm(S)\n",
    "    Corth = X @ C\n",
    "    \n",
    "    U,s,V = np.linalg.svd(Corth[orb_list,:])\n",
    "    nkeep = 0\n",
    "    for idx,si in enumerate(s):\n",
    "        if si > thresh:\n",
    "            nkeep += 1\n",
    "        print(\" Singular value: \", si)\n",
    "    print(\" # of orbitals to keep: \", nkeep)\n",
    "    \n",
    "    Xinv = scipy.linalg.inv(X)\n",
    "    \n",
    "    Csys = Xinv @ Corth @ V[0:nkeep,:].T\n",
    "    Cenv = Xinv @ Corth @ V[nkeep::,:].T\n",
    "    return Csys, Cenv\n",
    "\n",
    "def semi_canonicalize(C,F):\n",
    "    e,V = np.linalg.eigh(C.T @ F @ C)\n",
    "    for ei in e:\n",
    "        print(\" Orbital Energy: \", ei)\n",
    "    return C @ V"
   ]
  },
  {
   "cell_type": "code",
   "execution_count": 6,
   "id": "117111a4-bd50-4de4-ae0d-a14516bccc08",
   "metadata": {},
   "outputs": [
    {
     "name": "stdout",
     "output_type": "stream",
     "text": [
      " Singular value:  0.6897009857222781\n",
      " Singular value:  0.6697854732763284\n",
      " Singular value:  0.6475976877712083\n",
      " Singular value:  0.6462488919632164\n",
      " # of orbitals to keep:  4\n"
     ]
    }
   ],
   "source": [
    "import scipy\n",
    "\n",
    "# collect 2s,2p from O in Occ add to singly occupied orbitals\n",
    "docc_list = []\n",
    "socc_list = []\n",
    "virt_list = []\n",
    "oxygen_list = []\n",
    "for idx,i in enumerate(mf.mo_occ):\n",
    "    if i == 0:\n",
    "        virt_list.append(idx)\n",
    "    elif i == 1:\n",
    "        socc_list.append(idx)\n",
    "    elif i == 2:\n",
    "        docc_list.append(idx)\n",
    "        \n",
    "for ao_idx,ao in enumerate(mf.mol.ao_labels(fmt=False)):\n",
    "    if ao[0] == 2:\n",
    "        if ao[2] in (\"2s\", \"2p\"):\n",
    "            oxygen_list.append(ao_idx)\n",
    "\n",
    "C = mf.mo_coeff\n",
    "S = mf.get_ovlp()\n",
    "P = mf.make_rdm1()\n",
    "Pa = P[0,:,:]\n",
    "Pb = P[1,:,:]\n",
    "\n",
    "Cdocc = C[:,docc_list]\n",
    "Csocc = C[:,socc_list]\n",
    "Cvirt = C[:,virt_list]\n",
    "\n",
    "Cfrag, Cenv = get_spade_orbitals(oxygen_list, Cdocc, S)\n",
    "pyscf.tools.molden.from_mo(mf.mol, \"Cfrag.molden\", Cfrag);\n",
    "\n"
   ]
  },
  {
   "cell_type": "markdown",
   "id": "96932706-dc57-40fc-a88d-65861ebaceee",
   "metadata": {},
   "source": [
    "# Check that we still have all our electrons"
   ]
  },
  {
   "cell_type": "code",
   "execution_count": 7,
   "id": "c55ede15-7719-498a-ae75-7ed6b68a1cf0",
   "metadata": {},
   "outputs": [
    {
     "name": "stdout",
     "output_type": "stream",
     "text": [
      " # electrons:            α            β\n",
      "         Env:  73.00000000  73.00000000\n",
      "         Act:  14.00000000   4.00000000\n",
      "         Vir:   0.00000000   0.00000000\n"
     ]
    }
   ],
   "source": [
    "Cact = np.hstack((Cfrag, Csocc))\n",
    "# Cact = cp.deepcopy(Csocc)\n",
    "# Cenv = cp.deepcopy(Cdocc)\n",
    "na_act = np.trace(Cact.T @ S @ Pa @ S @ Cact)\n",
    "na_env = np.trace(Cenv.T @ S @ Pa @ S @ Cenv)\n",
    "na_vir = np.trace(Cvirt.T @ S @ Pa @ S @ Cvirt)\n",
    "nb_act = np.trace(Cact.T @ S @ Pb @ S @ Cact)\n",
    "nb_env = np.trace(Cenv.T @ S @ Pb @ S @ Cenv)\n",
    "nb_vir = np.trace(Cvirt.T @ S @ Pb @ S @ Cvirt)\n",
    "print(\" # electrons: %12s %12s\" %(\"α\", \"β\"))\n",
    "print(\"         Env: %12.8f %12.8f\" %(na_env, nb_env))\n",
    "print(\"         Act: %12.8f %12.8f\" %(na_act, nb_act))\n",
    "print(\"         Vir: %12.8f %12.8f\" %(na_vir, nb_vir))\n"
   ]
  },
  {
   "cell_type": "markdown",
   "id": "7f8d9c09-abc8-49bc-a05d-34ca11c7377f",
   "metadata": {},
   "source": [
    "# Split into Clusters"
   ]
  },
  {
   "cell_type": "code",
   "execution_count": 9,
   "id": "1f66a54c-1625-45ab-895e-9a8546615e70",
   "metadata": {
    "tags": []
   },
   "outputs": [
    {
     "name": "stdout",
     "output_type": "stream",
     "text": [
      " Singular value:  0.9918742479547848\n",
      " Singular value:  0.9895943682353148\n",
      " Singular value:  0.984888795731492\n",
      " Singular value:  0.9763353606733896\n",
      " Singular value:  0.9618202219778363\n",
      " Singular value:  0.412491706176008\n",
      " Singular value:  0.19352436900163988\n",
      " Singular value:  0.18346997561056785\n",
      " Singular value:  0.05298686712060987\n",
      " Singular value:  0.0111254374384743\n",
      " Singular value:  0.0024638794884277804\n",
      " Singular value:  0.0011885310339467966\n",
      " Singular value:  0.0008209151895551301\n",
      " Singular value:  0.00019677607759139779\n",
      " # of orbitals to keep:  7\n",
      " Singular value:  0.9918742479547834\n",
      " Singular value:  0.9895943682353121\n",
      " Singular value:  0.9848887957314917\n",
      " Singular value:  0.9763353606733916\n",
      " Singular value:  0.9618202219778372\n",
      " Singular value:  0.41249170617600794\n",
      " Singular value:  0.19352436900164072\n",
      " Singular value:  0.1834699756105677\n",
      " Singular value:  0.05298686712061093\n",
      " Singular value:  0.011125437438474134\n",
      " Singular value:  0.002463879488428346\n",
      " Singular value:  0.001188531033947499\n",
      " Singular value:  0.000820915189554836\n",
      " Singular value:  0.00019677607759210325\n",
      " # of orbitals to keep:  7\n",
      " Orbital Energy:  -1.439027369260994\n",
      " Orbital Energy:  -0.22544364620976276\n",
      " Orbital Energy:  -0.08408201296122139\n",
      " Orbital Energy:  -0.07959115701224773\n",
      " Orbital Energy:  -0.06820343629781586\n",
      " Orbital Energy:  -0.055491162931388664\n",
      " Orbital Energy:  -0.04045774379943932\n",
      " Orbital Energy:  -1.439027369260976\n",
      " Orbital Energy:  -0.22544364620975896\n",
      " Orbital Energy:  -0.08408201296121129\n",
      " Orbital Energy:  -0.0795911570122687\n",
      " Orbital Energy:  -0.06820343629783507\n",
      " Orbital Energy:  -0.05549116293138019\n",
      " Orbital Energy:  -0.04045774379939609\n",
      "\n",
      "WARN: orbitals [ 0  1  2  3  4  5  6  7  8  9 10 11 12 13] not symmetrized, norm = [0.5 0.5 0.5 0.5 0.5 0.5 0.5 0.5 0.5 0.5 0.5 0.5 0.5 0.5]\n",
      "\n"
     ]
    }
   ],
   "source": [
    "frag1 = []\n",
    "frag2 = []\n",
    "frag3 = []\n",
    "\n",
    "for ao_idx,ao in enumerate(mf.mol.ao_labels(fmt=False)):\n",
    "    if ao[0] == 0:\n",
    "        frag1.append(ao_idx)\n",
    "    elif ao[0] == 1:\n",
    "        frag2.append(ao_idx)    \n",
    "    elif ao[0] == 2:\n",
    "        frag3.append(ao_idx)\n",
    "\n",
    "\n",
    "C1, C1env = get_spade_orbitals(frag1, Cact, S, thresh=.19)\n",
    "C2, C2env = get_spade_orbitals(frag2, Cact, S, thresh=.19)\n",
    "# C3, C2env = get_spade_orbitals(frag3, Cact, S, thresh=.5)\n",
    "# C1, C2, C3 = sym_ortho([C1, C2, C3], S)\n",
    "C1, C2 = sym_ortho([C1, C2], S)\n",
    "C1 = semi_canonicalize(C1, F)\n",
    "C2 = semi_canonicalize(C2, F)\n",
    "# C3 = semi_canonicalize(C3, F)\n",
    "\n",
    "# Cact = np.hstack((C1, C2, C3))\n",
    "Cact = np.hstack((C1, C2))\n",
    "pyscf.tools.molden.from_mo(mf.mol, \"Cact.molden\", Cact);\n"
   ]
  },
  {
   "cell_type": "markdown",
   "id": "91dc633f-ee84-4875-bfed-57c9c3d7d0a6",
   "metadata": {},
   "source": [
    "# Make Integrals"
   ]
  },
  {
   "cell_type": "code",
   "execution_count": 10,
   "id": "eb3ac06f-7e94-420f-9635-6f64f27c7f05",
   "metadata": {},
   "outputs": [],
   "source": [
    "d1_embed = 2 * Cenv @ Cenv.T\n",
    "\n",
    "h0 = pyscf.gto.mole.energy_nuc(mf.mol)\n",
    "h  = pyscf.scf.hf.get_hcore(mf.mol)\n",
    "j, k = pyscf.scf.hf.get_jk(mf.mol, d1_embed, hermi=1)"
   ]
  },
  {
   "cell_type": "code",
   "execution_count": 11,
   "id": "130e7b7f-697e-4448-81f2-458931b4de8d",
   "metadata": {},
   "outputs": [],
   "source": [
    "h0 += np.trace(d1_embed @ ( h + .5*j - .25*k))\n",
    "\n",
    "h = Cact.T @ h @ Cact;\n",
    "j = Cact.T @ j @ Cact;\n",
    "k = Cact.T @ k @ Cact;"
   ]
  },
  {
   "cell_type": "code",
   "execution_count": 12,
   "id": "5047dda7-d4cc-4460-9f5a-0b34b7f16787",
   "metadata": {},
   "outputs": [],
   "source": [
    "nact = h.shape[0]\n",
    "\n",
    "h2 = pyscf.ao2mo.kernel(pymol, Cact, aosym=\"s4\", compact=False)\n",
    "h2.shape = (nact, nact, nact, nact)"
   ]
  },
  {
   "cell_type": "code",
   "execution_count": 13,
   "id": "eb9d44fb-b0ea-48c6-affd-481fc3405daa",
   "metadata": {},
   "outputs": [],
   "source": [
    "# The use of d1_embed only really makes sense if it has zero electrons in the\n",
    "# active space. Let's warn the user if that's not true\n",
    "\n",
    "S = pymol.intor(\"int1e_ovlp_sph\")\n",
    "n_act = np.trace(S @ d1_embed @ S @ Cact @ Cact.T)\n",
    "if abs(n_act) > 1e-8 == False:\n",
    "    print(n_act)\n",
    "    error(\" I found embedded electrons in the active space?!\")\n",
    "\n",
    "h1 = h + j - .5*k;\n"
   ]
  },
  {
   "cell_type": "code",
   "execution_count": 14,
   "id": "48548fca-bae3-46ea-94a6-fa73553eb91d",
   "metadata": {},
   "outputs": [],
   "source": [
    "np.save(\"ints_h0\", h0)\n",
    "np.save(\"ints_h1\", h1)\n",
    "np.save(\"ints_h2\", h2)\n",
    "np.save(\"mo_coeffs\", Cact)\n",
    "np.save(\"overlap_mat\", S)"
   ]
  },
  {
   "cell_type": "code",
   "execution_count": 15,
   "id": "946ea6cf-9de9-4acd-b9d6-4c22d2030da0",
   "metadata": {},
   "outputs": [
    {
     "name": "stdout",
     "output_type": "stream",
     "text": [
      "13.999999999999995 3.9999999999999996\n"
     ]
    }
   ],
   "source": [
    "Cold = mf.mo_coeff\n",
    "U = Cold.T @ S @ Cact\n",
    "Pa = mf.make_rdm1()[0]\n",
    "Pb = mf.make_rdm1()[1]\n",
    "\n",
    "Pa = Cact.T @ S @ Pa @ S @ Cact\n",
    "Pb = Cact.T @ S @ Pb @ S @ Cact\n",
    "print(np.trace(Pa), np.trace(Pb))\n",
    "np.save(\"Pa\", Pa)\n",
    "np.save(\"Pb\", Pb)\n"
   ]
  },
  {
   "cell_type": "code",
   "execution_count": 18,
   "id": "130c6459-4ba2-47c4-9907-a74bf4584de8",
   "metadata": {},
   "outputs": [
    {
     "data": {
      "text/plain": [
       "-9.769517093610935"
      ]
     },
     "execution_count": 18,
     "metadata": {},
     "output_type": "execute_result"
    }
   ],
   "source": [
    "np.trace(Cact @ Cact.T @ S @ F) "
   ]
  },
  {
   "cell_type": "code",
   "execution_count": 19,
   "id": "e202d70e-4fba-41c8-8930-ff6c1d50cd56",
   "metadata": {},
   "outputs": [
    {
     "name": "stdout",
     "output_type": "stream",
     "text": [
      "\n",
      "WARN: orbitals [ 0  1  2  3  4  5  6  7  8  9 10 11 12 13] not symmetrized, norm = [0.50538766 0.50126683 0.50019246 0.5009896  0.50224407 0.50313289\n",
      " 0.50140263 0.50453342 0.50061593 0.50042696 0.50061525 0.5011248\n",
      " 0.50260551 0.50018054]\n",
      "\n"
     ]
    }
   ],
   "source": [
    "Ccmf = np.load(\"Ccmf.npy\")\n",
    "pyscf.tools.molden.from_mo(mf.mol, \"Ccmf.molden\", Ccmf);\n"
   ]
  },
  {
   "cell_type": "code",
   "execution_count": null,
   "id": "137133bd-3644-481f-a72c-bb92d17ee480",
   "metadata": {},
   "outputs": [],
   "source": []
  }
 ],
 "metadata": {
  "kernelspec": {
   "display_name": "Python 3 (ipykernel)",
   "language": "python",
   "name": "python3"
  },
  "language_info": {
   "codemirror_mode": {
    "name": "ipython",
    "version": 3
   },
   "file_extension": ".py",
   "mimetype": "text/x-python",
   "name": "python",
   "nbconvert_exporter": "python",
   "pygments_lexer": "ipython3",
   "version": "3.9.7"
  }
 },
 "nbformat": 4,
 "nbformat_minor": 5
}
